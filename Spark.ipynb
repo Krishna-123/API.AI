{
  "nbformat": 4,
  "nbformat_minor": 0,
  "metadata": {
    "colab": {
      "name": "Spark.ipynb",
      "provenance": [],
      "collapsed_sections": [],
      "authorship_tag": "ABX9TyP1y8dulz5uEvolNCaWnZKM",
      "include_colab_link": true
    },
    "kernelspec": {
      "name": "python3",
      "display_name": "Python 3"
    },
    "language_info": {
      "name": "python"
    }
  },
  "cells": [
    {
      "cell_type": "markdown",
      "metadata": {
        "id": "view-in-github",
        "colab_type": "text"
      },
      "source": [
        "<a href=\"https://colab.research.google.com/github/Krishna-123/API.AI/blob/master/Spark.ipynb\" target=\"_parent\"><img src=\"https://colab.research.google.com/assets/colab-badge.svg\" alt=\"Open In Colab\"/></a>"
      ]
    },
    {
      "cell_type": "code",
      "source": [
        "!wget https://raw.githubusercontent.com/futurexskill/bigdata/master/retailstore.csv"
      ],
      "metadata": {
        "colab": {
          "base_uri": "https://localhost:8080/"
        },
        "id": "KgRZ50sCqaA1",
        "outputId": "413b8dda-d514-4117-cbf3-426c7a810bb4"
      },
      "execution_count": 25,
      "outputs": [
        {
          "output_type": "stream",
          "name": "stdout",
          "text": [
            "--2022-06-05 07:00:25--  https://raw.githubusercontent.com/futurexskill/bigdata/master/retailstore.csv\n",
            "Resolving raw.githubusercontent.com (raw.githubusercontent.com)... 185.199.108.133, 185.199.109.133, 185.199.110.133, ...\n",
            "Connecting to raw.githubusercontent.com (raw.githubusercontent.com)|185.199.108.133|:443... connected.\n",
            "HTTP request sent, awaiting response... 200 OK\n",
            "Length: 279 [text/plain]\n",
            "Saving to: ‘retailstore.csv’\n",
            "\n",
            "retailstore.csv     100%[===================>]     279  --.-KB/s    in 0s      \n",
            "\n",
            "2022-06-05 07:00:25 (15.6 MB/s) - ‘retailstore.csv’ saved [279/279]\n",
            "\n"
          ]
        }
      ]
    },
    {
      "cell_type": "code",
      "execution_count": 1,
      "metadata": {
        "colab": {
          "base_uri": "https://localhost:8080/"
        },
        "id": "1o4rbaDBj5Ar",
        "outputId": "e0dc49d6-0e14-4cc3-bc54-64560beb2d8a"
      },
      "outputs": [
        {
          "output_type": "stream",
          "name": "stdout",
          "text": [
            "sample_data\n"
          ]
        }
      ],
      "source": [
        "!ls"
      ]
    },
    {
      "cell_type": "code",
      "source": [
        "! ls /usr/lib/jvm"
      ],
      "metadata": {
        "colab": {
          "base_uri": "https://localhost:8080/"
        },
        "id": "6JnE0WamkCgl",
        "outputId": "50aecb34-5f59-4be0-d93b-1303b660099c"
      },
      "execution_count": 1,
      "outputs": [
        {
          "output_type": "stream",
          "name": "stdout",
          "text": [
            "default-java  java-1.11.0-openjdk-amd64  java-11-openjdk-amd64\n"
          ]
        }
      ]
    },
    {
      "cell_type": "code",
      "source": [
        "!wget https://dlcdn.apache.org/spark/spark-3.2.1/spark-3.2.1-bin-hadoop3.2.tgz"
      ],
      "metadata": {
        "colab": {
          "base_uri": "https://localhost:8080/"
        },
        "id": "OB-Rh3pUkGdH",
        "outputId": "ac437285-9918-4389-a24a-f4625770a397"
      },
      "execution_count": 2,
      "outputs": [
        {
          "output_type": "stream",
          "name": "stdout",
          "text": [
            "--2022-06-07 05:35:20--  https://dlcdn.apache.org/spark/spark-3.2.1/spark-3.2.1-bin-hadoop3.2.tgz\n",
            "Resolving dlcdn.apache.org (dlcdn.apache.org)... 151.101.2.132, 2a04:4e42::644\n",
            "Connecting to dlcdn.apache.org (dlcdn.apache.org)|151.101.2.132|:443... connected.\n",
            "HTTP request sent, awaiting response... 200 OK\n",
            "Length: 300971569 (287M) [application/x-gzip]\n",
            "Saving to: ‘spark-3.2.1-bin-hadoop3.2.tgz’\n",
            "\n",
            "spark-3.2.1-bin-had 100%[===================>] 287.03M   258MB/s    in 1.1s    \n",
            "\n",
            "2022-06-07 05:35:21 (258 MB/s) - ‘spark-3.2.1-bin-hadoop3.2.tgz’ saved [300971569/300971569]\n",
            "\n"
          ]
        }
      ]
    },
    {
      "cell_type": "code",
      "source": [
        "\n",
        "!tar xzf spark-3.2.1-bin-hadoop3.2.tgz"
      ],
      "metadata": {
        "id": "x6FBRow7kRt9"
      },
      "execution_count": 3,
      "outputs": []
    },
    {
      "cell_type": "code",
      "source": [
        "import os\n",
        "os.environ[\"JAVA_HOME\"] = '/usr/lib/jvm/java-11-openjdk-amd64'\n",
        "os.environ[\"SPARK_HOME\"] = '/content/spark-3.2.1-bin-hadoop3.2'\n"
      ],
      "metadata": {
        "id": "vNOs4h9qknrd"
      },
      "execution_count": 4,
      "outputs": []
    },
    {
      "cell_type": "code",
      "source": [
        "! pip install findspark"
      ],
      "metadata": {
        "colab": {
          "base_uri": "https://localhost:8080/"
        },
        "id": "ODjhctt9prpK",
        "outputId": "402d0970-49d1-4c0b-d181-a28179506d66"
      },
      "execution_count": 5,
      "outputs": [
        {
          "output_type": "stream",
          "name": "stdout",
          "text": [
            "Looking in indexes: https://pypi.org/simple, https://us-python.pkg.dev/colab-wheels/public/simple/\n",
            "Collecting findspark\n",
            "  Downloading findspark-2.0.1-py2.py3-none-any.whl (4.4 kB)\n",
            "Installing collected packages: findspark\n",
            "Successfully installed findspark-2.0.1\n"
          ]
        }
      ]
    },
    {
      "cell_type": "code",
      "source": [
        "import findspark as fs\n",
        "fs.init()"
      ],
      "metadata": {
        "id": "NNZZmhS8pwfu"
      },
      "execution_count": 7,
      "outputs": []
    },
    {
      "cell_type": "code",
      "source": [
        "!echo \"$SPARK_HOME\""
      ],
      "metadata": {
        "colab": {
          "base_uri": "https://localhost:8080/"
        },
        "id": "2fafflMuksD-",
        "outputId": "c4de8531-8d9c-49d7-b99e-843681cae2d5"
      },
      "execution_count": 8,
      "outputs": [
        {
          "output_type": "stream",
          "name": "stdout",
          "text": [
            "/content/spark-3.2.1-bin-hadoop3.2\n"
          ]
        }
      ]
    },
    {
      "cell_type": "code",
      "source": [
        "# creating configuration and context, context in the entry point and configuration are the basic configurations we need to provide\n",
        "from pyspark import SparkConf, SparkContext"
      ],
      "metadata": {
        "id": "JZqd20hNlGjz"
      },
      "execution_count": 9,
      "outputs": []
    },
    {
      "cell_type": "code",
      "source": [
        "conf = SparkConf().setAppName(\"Read File\")\n",
        "sc = SparkContext.getOrCreate(conf)"
      ],
      "metadata": {
        "id": "GiPD_AaIpXiJ"
      },
      "execution_count": 10,
      "outputs": []
    },
    {
      "cell_type": "code",
      "source": [
        "# based on the context read the file\n",
        "text = sc.textFile('/content/retailstore.csv')"
      ],
      "metadata": {
        "id": "vM9n7NzCqc9V"
      },
      "execution_count": 26,
      "outputs": []
    },
    {
      "cell_type": "code",
      "source": [
        "text"
      ],
      "metadata": {
        "colab": {
          "base_uri": "https://localhost:8080/"
        },
        "id": "C-9-JvfEq0tF",
        "outputId": "74a626b4-74a8-414d-b4c2-db4ad407865d"
      },
      "execution_count": 29,
      "outputs": [
        {
          "output_type": "execute_result",
          "data": {
            "text/plain": [
              "/content/retailstore.csv MapPartitionsRDD[1] at textFile at NativeMethodAccessorImpl.java:0"
            ]
          },
          "metadata": {},
          "execution_count": 29
        }
      ]
    },
    {
      "cell_type": "code",
      "source": [
        "text.collect()"
      ],
      "metadata": {
        "colab": {
          "base_uri": "https://localhost:8080/"
        },
        "id": "1Tqjbb0Nq2Y4",
        "outputId": "cc21b0fb-94fd-4ebc-d53a-610bb2db793a"
      },
      "execution_count": 30,
      "outputs": [
        {
          "output_type": "execute_result",
          "data": {
            "text/plain": [
              "['Age,Salary,Gender,Country,Purchased',\n",
              " '18,20000,Male,Germany,N',\n",
              " '19,22000,Female,France,N',\n",
              " '20,24000,Female,England,N',\n",
              " '21,,Male,England,N',\n",
              " '22,50000,Male,France,Y',\n",
              " '23,35000,Female,England,N',\n",
              " '24,,Male,Germany,N',\n",
              " '25,32000,Female,France,Y',\n",
              " ',35000,Male,Germany,N',\n",
              " '27,37000,Female,France,N']"
            ]
          },
          "metadata": {},
          "execution_count": 30
        }
      ]
    },
    {
      "cell_type": "code",
      "source": [
        "# apply map function\n",
        "text.map(lambda x: x + ' Kolkata').collect()\n",
        "#  this will create a new RDD and append Kolkata in it"
      ],
      "metadata": {
        "colab": {
          "base_uri": "https://localhost:8080/"
        },
        "id": "2kYDbaegvGpE",
        "outputId": "7e84b713-7557-4f65-a16d-f1e1415ed34b"
      },
      "execution_count": 31,
      "outputs": [
        {
          "output_type": "execute_result",
          "data": {
            "text/plain": [
              "['Age,Salary,Gender,Country,Purchased Kolkata',\n",
              " '18,20000,Male,Germany,N Kolkata',\n",
              " '19,22000,Female,France,N Kolkata',\n",
              " '20,24000,Female,England,N Kolkata',\n",
              " '21,,Male,England,N Kolkata',\n",
              " '22,50000,Male,France,Y Kolkata',\n",
              " '23,35000,Female,England,N Kolkata',\n",
              " '24,,Male,Germany,N Kolkata',\n",
              " '25,32000,Female,France,Y Kolkata',\n",
              " ',35000,Male,Germany,N Kolkata',\n",
              " '27,37000,Female,France,N Kolkata']"
            ]
          },
          "metadata": {},
          "execution_count": 31
        }
      ]
    },
    {
      "cell_type": "code",
      "source": [
        "text.map(lambda x: x.replace('Male', 'M') if ('Male' in x) else x.replace('Female', 'F') ).collect()"
      ],
      "metadata": {
        "colab": {
          "base_uri": "https://localhost:8080/"
        },
        "id": "9VbjwAmj0B8m",
        "outputId": "33c2ff81-af84-400e-a2da-cfcfecdebff0"
      },
      "execution_count": 33,
      "outputs": [
        {
          "output_type": "execute_result",
          "data": {
            "text/plain": [
              "['Age,Salary,Gender,Country,Purchased',\n",
              " '18,20000,M,Germany,N',\n",
              " '19,22000,F,France,N',\n",
              " '20,24000,F,England,N',\n",
              " '21,,M,England,N',\n",
              " '22,50000,M,France,Y',\n",
              " '23,35000,F,England,N',\n",
              " '24,,M,Germany,N',\n",
              " '25,32000,F,France,Y',\n",
              " ',35000,M,Germany,N',\n",
              " '27,37000,F,France,N']"
            ]
          },
          "metadata": {},
          "execution_count": 33
        }
      ]
    },
    {
      "cell_type": "code",
      "source": [
        "text.collect() # original will remain as it is"
      ],
      "metadata": {
        "colab": {
          "base_uri": "https://localhost:8080/"
        },
        "id": "wDK-dANl0ryZ",
        "outputId": "4d852fd7-fd6e-4510-b30f-5492e6e8fc30"
      },
      "execution_count": 34,
      "outputs": [
        {
          "output_type": "execute_result",
          "data": {
            "text/plain": [
              "['Age,Salary,Gender,Country,Purchased',\n",
              " '18,20000,Male,Germany,N',\n",
              " '19,22000,Female,France,N',\n",
              " '20,24000,Female,England,N',\n",
              " '21,,Male,England,N',\n",
              " '22,50000,Male,France,Y',\n",
              " '23,35000,Female,England,N',\n",
              " '24,,Male,Germany,N',\n",
              " '25,32000,Female,France,Y',\n",
              " ',35000,Male,Germany,N',\n",
              " '27,37000,Female,France,N']"
            ]
          },
          "metadata": {},
          "execution_count": 34
        }
      ]
    },
    {
      "cell_type": "code",
      "source": [
        "# question 1, create a RDD which will denote the salary after 10 years, also increase the age accrodingly\n",
        "# will continue after reading more function\n",
        "\n",
        "def increment(index, iter):\n",
        "  lines = list(iter)[1:] if index==0 else list(iter)\n",
        "  for l in lines:\n",
        "    yield l\n",
        "\n",
        "removedHeader_RDD = text.mapPartitionsWithIndex(increment)\n",
        "removedHeader_RDD.collect()\n",
        "\n",
        "age_RDD = removedHeader_RDD.filter(lambda x: len(x)>0).collect()\n"
      ],
      "metadata": {
        "colab": {
          "base_uri": "https://localhost:8080/"
        },
        "id": "VibSzz_40yRR",
        "outputId": "2477e1c2-9a8e-42c6-f456-bd7920fca5f0"
      },
      "execution_count": 65,
      "outputs": [
        {
          "output_type": "execute_result",
          "data": {
            "text/plain": [
              "['18,20000,Male,Germany,N',\n",
              " '19,22000,Female,France,N',\n",
              " '20,24000,Female,England,N',\n",
              " '21,,Male,England,N',\n",
              " '22,50000,Male,France,Y',\n",
              " '23,35000,Female,England,N',\n",
              " '24,,Male,Germany,N',\n",
              " '25,32000,Female,France,Y',\n",
              " ',35000,Male,Germany,N',\n",
              " '27,37000,Female,France,N']"
            ]
          },
          "metadata": {},
          "execution_count": 65
        }
      ]
    },
    {
      "cell_type": "code",
      "source": [
        "len('kriusha')"
      ],
      "metadata": {
        "colab": {
          "base_uri": "https://localhost:8080/"
        },
        "id": "MeG81WJdCraL",
        "outputId": "bfb74cc4-df3a-481f-9546-f4ba2e351679"
      },
      "execution_count": 73,
      "outputs": [
        {
          "output_type": "execute_result",
          "data": {
            "text/plain": [
              "7"
            ]
          },
          "metadata": {},
          "execution_count": 73
        }
      ]
    },
    {
      "cell_type": "code",
      "source": [
        "# question:-2\n",
        "# read the entire file \"question_2_file.txt\" and print the count of every word\n",
        "\n",
        "file_2 = sc.textFile(\"./question_2_file.txt\")\n",
        "file_2.collect()\n",
        "\n",
        "# mapper function\n",
        "\n",
        "def word_count(line):\n",
        "  return [ len(word) for word in line.split(\" \") ]\n",
        "\n",
        "# file_2.map(word_count).collect()\n",
        "# usign lambda\n",
        "file_2.map(lambda line: [ len(word) for word in line.split(\" \")] ).collect()"
      ],
      "metadata": {
        "colab": {
          "base_uri": "https://localhost:8080/"
        },
        "id": "uQyI8gqF4ZxU",
        "outputId": "4836d973-9d89-48f2-d988-b8657a6c4b55"
      },
      "execution_count": 87,
      "outputs": [
        {
          "output_type": "execute_result",
          "data": {
            "text/plain": [
              "[[2, 0, 3, 3, 3, 1], [4, 3, 3, 5, 4], [5]]"
            ]
          },
          "metadata": {},
          "execution_count": 87
        }
      ]
    },
    {
      "cell_type": "code",
      "source": [
        "# Flat Map function\n",
        "file_2.collect()\n",
        "print(file_2.map(lambda line: line.split(\" \")).collect())\n",
        "set(sorted(file_2.flatMap(lambda line: line.split(\" \")).collect())) # flatMap simply flattens the result into a single level"
      ],
      "metadata": {
        "colab": {
          "base_uri": "https://localhost:8080/"
        },
        "id": "IJUuFnBZBnif",
        "outputId": "b82534b2-e756-49c4-f8df-dd184c389dae"
      },
      "execution_count": 93,
      "outputs": [
        {
          "output_type": "stream",
          "name": "stdout",
          "text": [
            "[['hi', '', 'how', 'are', 'you', '?'], ['Hope', 'you', 'are', 'doing', 'good'], ['great']]\n"
          ]
        },
        {
          "output_type": "execute_result",
          "data": {
            "text/plain": [
              "{'', '?', 'Hope', 'are', 'doing', 'good', 'great', 'hi', 'how', 'you'}"
            ]
          },
          "metadata": {},
          "execution_count": 93
        }
      ]
    },
    {
      "cell_type": "code",
      "source": [
        "# question 3:-\n",
        "# remove the words stating with letter 'a' or 'c'\n",
        "\n",
        "file3 = sc.textFile('./question_3_file.txt')\n",
        "file3.collect()"
      ],
      "metadata": {
        "colab": {
          "base_uri": "https://localhost:8080/"
        },
        "id": "TgIlToq8HtjA",
        "outputId": "426c6cc3-cf82-4da3-8be6-dac8403e5a4a"
      },
      "execution_count": 94,
      "outputs": [
        {
          "output_type": "execute_result",
          "data": {
            "text/plain": [
              "['this mango company animal',\n",
              " 'cat dog ant mic laptop',\n",
              " 'chair switch mobile am charger cover',\n",
              " 'amanda any alarm ant']"
            ]
          },
          "metadata": {},
          "execution_count": 94
        }
      ]
    },
    {
      "cell_type": "code",
      "source": [
        "file3_flat = file3.flatMap(lambda line: line.split(\" \"))\n",
        "file3_flat.collect()\n",
        "\n",
        "file4_filter = file3_flat.filter(lambda x: (x[0] !='a') and (x[0] != 'c')  )\n",
        "file4_filter.collect()"
      ],
      "metadata": {
        "colab": {
          "base_uri": "https://localhost:8080/"
        },
        "id": "GZywnvhPPX_X",
        "outputId": "3d12da26-825d-4820-a076-751866e68d38"
      },
      "execution_count": 98,
      "outputs": [
        {
          "output_type": "execute_result",
          "data": {
            "text/plain": [
              "['this', 'mango', 'dog', 'mic', 'laptop', 'switch', 'mobile']"
            ]
          },
          "metadata": {},
          "execution_count": 98
        }
      ]
    },
    {
      "cell_type": "code",
      "source": [
        "! cat ./question_3_file.txt"
      ],
      "metadata": {
        "colab": {
          "base_uri": "https://localhost:8080/"
        },
        "id": "-oEwDgJMPuh5",
        "outputId": "4a599ca0-0246-4341-fd79-7bf9f27c9818"
      },
      "execution_count": 4,
      "outputs": [
        {
          "output_type": "stream",
          "name": "stdout",
          "text": [
            "this mango company animal,\n",
            "cat dog ant mic laptop,\n",
            "chair switch mobile am charger cover,\n",
            "amanda any alarm ant"
          ]
        }
      ]
    },
    {
      "cell_type": "code",
      "source": [
        "# covert each word of the above file into tuple format with Keys ('this',1) ('mango',2)\n",
        "\n",
        "file5 = sc.textFile('./question_3_file.txt')\n",
        "file5.collect()\n",
        "\n",
        "# indexed_string = file5.flatMap(lambda x :[(item,i) for i,item in enumerate(x.split(\" \"))])\n",
        "indexed_string = file5.flatMap(lambda x: [(item, len(item)) for item in x.split(\" \") ])\n",
        "indexed_string.groupByKey().mapValues(len).collect() # here len means count\n"
      ],
      "metadata": {
        "colab": {
          "base_uri": "https://localhost:8080/"
        },
        "id": "PDPW-G0atHOZ",
        "outputId": "87abc0ea-76d6-4049-b30c-fa5473429dd9"
      },
      "execution_count": 26,
      "outputs": [
        {
          "output_type": "execute_result",
          "data": {
            "text/plain": [
              "[('this', 1),\n",
              " ('mango', 1),\n",
              " ('animal,', 1),\n",
              " ('cat', 1),\n",
              " ('ant', 2),\n",
              " ('chair', 1),\n",
              " ('switch', 1),\n",
              " ('mobile', 1),\n",
              " ('am', 1),\n",
              " ('company', 1),\n",
              " ('dog', 1),\n",
              " ('mic', 1),\n",
              " ('laptop,', 1),\n",
              " ('charger', 1),\n",
              " ('cover,', 1),\n",
              " ('amanda', 1),\n",
              " ('any', 1),\n",
              " ('alarm', 1)]"
            ]
          },
          "metadata": {},
          "execution_count": 26
        }
      ]
    },
    {
      "cell_type": "code",
      "source": [
        "# reduceByKey() example\n",
        "\n",
        "file5.flatMap(lambda x : [(item, len(item)) for item in x.split(\" \")] ).reduceByKey(lambda x,y: x+y).collect()\n",
        "\n",
        "file5.flatMap(lambda x : [(item, len(item)) for item in x.split(\" \")] ).groupByKey().mapValues(sum).collect()\n",
        "\n"
      ],
      "metadata": {
        "colab": {
          "base_uri": "https://localhost:8080/"
        },
        "id": "NK6cDdzKuX01",
        "outputId": "cd998e73-964e-4a1c-e85a-f7a5f0eda649"
      },
      "execution_count": 34,
      "outputs": [
        {
          "output_type": "execute_result",
          "data": {
            "text/plain": [
              "[('this', 4),\n",
              " ('mango', 5),\n",
              " ('animal,', 7),\n",
              " ('cat', 3),\n",
              " ('ant', 6),\n",
              " ('chair', 5),\n",
              " ('switch', 6),\n",
              " ('mobile', 6),\n",
              " ('am', 2),\n",
              " ('company', 7),\n",
              " ('dog', 3),\n",
              " ('mic', 3),\n",
              " ('laptop,', 7),\n",
              " ('charger', 7),\n",
              " ('cover,', 6),\n",
              " ('amanda', 6),\n",
              " ('any', 3),\n",
              " ('alarm', 5)]"
            ]
          },
          "metadata": {},
          "execution_count": 34
        }
      ]
    },
    {
      "cell_type": "code",
      "source": [
        "#  to check word count using reduceByKey\n",
        "#  here we need to count them as word so we need to split them as (item,1) ==> (\"item\", 1+1+1)\n",
        "\n",
        "file5 = sc.textFile(\"./question_3_file.txt\")\n",
        "file5.collect()\n",
        "file5.flatMap(lambda x : [(item, 1) for item in x.split() ]).reduceByKey(lambda x,y : x+y).collect()"
      ],
      "metadata": {
        "colab": {
          "base_uri": "https://localhost:8080/"
        },
        "id": "eI682En40XYf",
        "outputId": "07451e72-16d9-4705-efef-6bb9094893e9"
      },
      "execution_count": 37,
      "outputs": [
        {
          "output_type": "execute_result",
          "data": {
            "text/plain": [
              "[('this', 1),\n",
              " ('mango', 1),\n",
              " ('animal,', 1),\n",
              " ('cat', 1),\n",
              " ('ant', 2),\n",
              " ('chair', 1),\n",
              " ('switch', 1),\n",
              " ('mobile', 1),\n",
              " ('am', 1),\n",
              " ('company', 1),\n",
              " ('dog', 1),\n",
              " ('mic', 1),\n",
              " ('laptop,', 1),\n",
              " ('charger', 1),\n",
              " ('cover,', 1),\n",
              " ('amanda', 1),\n",
              " ('any', 1),\n",
              " ('alarm', 1)]"
            ]
          },
          "metadata": {},
          "execution_count": 37
        }
      ]
    },
    {
      "cell_type": "code",
      "source": [
        "# count and countByValue Action\n",
        "file5.collect()"
      ],
      "metadata": {
        "colab": {
          "base_uri": "https://localhost:8080/"
        },
        "id": "3BwFEutM3NTF",
        "outputId": "bbe0462c-78e3-466f-b8f6-222a6abe74b2"
      },
      "execution_count": 39,
      "outputs": [
        {
          "output_type": "execute_result",
          "data": {
            "text/plain": [
              "['this mango company animal,',\n",
              " 'cat dog ant mic laptop,',\n",
              " 'chair switch mobile am charger cover,',\n",
              " 'amanda any alarm ant']"
            ]
          },
          "metadata": {},
          "execution_count": 39
        }
      ]
    },
    {
      "cell_type": "code",
      "source": [
        "# RDD.count() -- count the overall values present in a RDD\n",
        "file5.count() # --> 4 as there is overall 4 strings\n",
        "\n",
        "file5.flatMap(lambda x: x.split(\" \")).count() # --> 19 because now we have splitted them so all of them now becomes the part of RDD\n",
        "\n",
        "# RDD.countByValue() -- count the number of values based on values itself, i.e how many times a value occured\n",
        "\n",
        "file5.countByValue() # it will simply count the number of keys ( or RDD values) \n",
        "\n",
        "file5.flatMap(lambda x: x.split(\" \")).countByValue() # this will return the same result that we have experienced based on group by or Reduce by.\n",
        "\n",
        "\n"
      ],
      "metadata": {
        "colab": {
          "base_uri": "https://localhost:8080/"
        },
        "id": "18zQYWcL8YPY",
        "outputId": "6009705c-de11-44c3-8123-abaef82f0e66"
      },
      "execution_count": 43,
      "outputs": [
        {
          "output_type": "execute_result",
          "data": {
            "text/plain": [
              "defaultdict(int,\n",
              "            {'alarm': 1,\n",
              "             'am': 1,\n",
              "             'amanda': 1,\n",
              "             'animal,': 1,\n",
              "             'ant': 2,\n",
              "             'any': 1,\n",
              "             'cat': 1,\n",
              "             'chair': 1,\n",
              "             'charger': 1,\n",
              "             'company': 1,\n",
              "             'cover,': 1,\n",
              "             'dog': 1,\n",
              "             'laptop,': 1,\n",
              "             'mango': 1,\n",
              "             'mic': 1,\n",
              "             'mobile': 1,\n",
              "             'switch': 1,\n",
              "             'this': 1})"
            ]
          },
          "metadata": {},
          "execution_count": 43
        }
      ]
    },
    {
      "cell_type": "code",
      "source": [
        "# saveAsTextFile\n",
        "\n",
        "# Reading the file\n",
        "file5 = sc.textFile('./question_3_file.txt')\n",
        "# Applying the transformations\n",
        "transformed_rdd = file5.flatMap(lambda x: x.split(\" \")).map(lambda x: (x,1))"
      ],
      "metadata": {
        "id": "X4rz6GvQ8fuz"
      },
      "execution_count": 45,
      "outputs": []
    },
    {
      "cell_type": "code",
      "source": [
        "# in the above statements we read the files and aply transformation over it.\n",
        "# by that time spark delivers the task to its worker nodes and asked them to perform it.\n",
        "# but only when we ask to collect it, or we ask for some action then only spark main_node will start collecting output from all its worker node\n",
        "\n",
        "# applying action to save the file\n",
        "transformed_rdd.saveAsTextFile(\"output/transformedRdd\")\n",
        "# it will create ./output/transformedRdd/(place all the files collected from multiple partitions)\n",
        "# that's output files are in partitioned format\n",
        "\n"
      ],
      "metadata": {
        "id": "wIBrkAmyArhG"
      },
      "execution_count": 46,
      "outputs": []
    },
    {
      "cell_type": "code",
      "source": [
        "transformed_rdd.getNumPartitions() # to ge the current number of partitions"
      ],
      "metadata": {
        "colab": {
          "base_uri": "https://localhost:8080/"
        },
        "id": "5xpaKfkLBVlt",
        "outputId": "16626361-fa48-4bd2-8960-689c6b268e0e"
      },
      "execution_count": 47,
      "outputs": [
        {
          "output_type": "execute_result",
          "data": {
            "text/plain": [
              "2"
            ]
          },
          "metadata": {},
          "execution_count": 47
        }
      ]
    },
    {
      "cell_type": "code",
      "source": [
        "# repartitions and coalesce\n",
        "file5 = sc.textFile(\"./question_3_file.txt\")\n",
        "file5.getNumPartitions() # result will be default as 2\n",
        "rdd = file5.repartition(5) # transformation creates new RDD\n",
        "rdd.getNumPartitions() # result will be 5\n",
        "\n",
        "new_RDD = rdd.coalesce(1)\n",
        "new_RDD.getNumPartitions() # return 1"
      ],
      "metadata": {
        "colab": {
          "base_uri": "https://localhost:8080/"
        },
        "id": "B0hzlWjaB145",
        "outputId": "f3617e8b-f930-4a48-b21a-a0ac017521ce"
      },
      "execution_count": 53,
      "outputs": [
        {
          "output_type": "execute_result",
          "data": {
            "text/plain": [
              "1"
            ]
          },
          "metadata": {},
          "execution_count": 53
        }
      ]
    },
    {
      "cell_type": "code",
      "source": [
        "# save into multiple partitions\n",
        "# file5.repartition(5).saveAsTextFile(\"./output/5_partitions\")\n",
        "\n",
        "# Accumulating from multiple partitions\n",
        "rdd_from_dir = sc.textFile(\"./output/5_partitions\")\n",
        "rdd_from_dir.getNumPartitions() # returns the result as 3"
      ],
      "metadata": {
        "colab": {
          "base_uri": "https://localhost:8080/"
        },
        "id": "G-0YdNtYIwUk",
        "outputId": "ae84693b-626a-4a19-cb9f-9fe46d8630a3"
      },
      "execution_count": 58,
      "outputs": [
        {
          "output_type": "execute_result",
          "data": {
            "text/plain": [
              "3"
            ]
          },
          "metadata": {},
          "execution_count": 58
        }
      ]
    },
    {
      "cell_type": "code",
      "source": [
        "# Exercise :- Finding the Average\n",
        "\n",
        "# !cat './average_quiz_sample.csv'\n",
        "\n",
        "sample_file = sc.textFile(\"./average_quiz_sample.csv\")\n",
        "grouped_rdd = sample_file.map(lambda x: (x.split(\",\")[0], (float(x.split(\",\")[2]),1) )).reduceByKey(lambda x,y: (x[0]+y[0], x[1]+y[1]) )\n",
        "\n",
        "grouped_rdd.map(lambda x: (x[0], x[1][0]/x[1][1]) ).collect()\n",
        "\n"
      ],
      "metadata": {
        "colab": {
          "base_uri": "https://localhost:8080/"
        },
        "id": "uNq4RRD8JtK3",
        "outputId": "bb2d9fb8-1b92-4637-8e8c-932e1dddba44"
      },
      "execution_count": 50,
      "outputs": [
        {
          "output_type": "execute_result",
          "data": {
            "text/plain": [
              "[('JAN', 2.5), ('FEB', 1.25), ('MAR', 2.0)]"
            ]
          },
          "metadata": {},
          "execution_count": 50
        }
      ]
    },
    {
      "cell_type": "code",
      "source": [
        "!cat './average_quiz_sample.csv'"
      ],
      "metadata": {
        "colab": {
          "base_uri": "https://localhost:8080/"
        },
        "id": "jlKL-GldR3_d",
        "outputId": "957973fe-6536-4184-bde7-aa151e052997"
      },
      "execution_count": 15,
      "outputs": [
        {
          "output_type": "stream",
          "name": "stdout",
          "text": [
            "JAN,NY,3.0\r\n",
            "JAN,PA,1.0\r\n",
            "JAN,NJ,2.0\r\n",
            "JAN,CT,4.0\r\n",
            "FEB,PA,1.0\r\n",
            "FEB,NJ,1.0\r\n",
            "FEB,NY,2.0\r\n",
            "FEB,VT,1.0\r\n",
            "MAR,NJ,2.0\r\n",
            "MAR,NY,1.0\r\n",
            "MAR,VT,2.0\r\n",
            "MAR,PA,3.0"
          ]
        }
      ]
    },
    {
      "cell_type": "code",
      "source": [
        "float('10.0')"
      ],
      "metadata": {
        "colab": {
          "base_uri": "https://localhost:8080/"
        },
        "id": "y1kjxyOEUrIV",
        "outputId": "b0494370-2820-4a0b-d4c6-189791e4b8ac"
      },
      "execution_count": 35,
      "outputs": [
        {
          "output_type": "execute_result",
          "data": {
            "text/plain": [
              "10.0"
            ]
          },
          "metadata": {},
          "execution_count": 35
        }
      ]
    },
    {
      "cell_type": "code",
      "source": [
        "#  finding Min and Max based on Movie Rating \n",
        "movies = sc.textFile(\"./movie_ratings.csv\")\n",
        "movies.collect()"
      ],
      "metadata": {
        "colab": {
          "base_uri": "https://localhost:8080/"
        },
        "id": "Qg24fqUkMuRM",
        "outputId": "dafe8110-da6a-4c26-99be-5ef59133db4a"
      },
      "execution_count": 11,
      "outputs": [
        {
          "output_type": "execute_result",
          "data": {
            "text/plain": [
              "['The Shawshank Redemption,3',\n",
              " 'The Matrix,5',\n",
              " '12 Angry Men,3',\n",
              " '12 Angry Men,4',\n",
              " 'The Matrix,5',\n",
              " 'Pulp Fiction,4',\n",
              " 'The Godfather,5',\n",
              " 'The Shawshank Redemption,2',\n",
              " 'Pulp Fiction,4',\n",
              " 'The Godfather,5',\n",
              " '12 Angry Men,2',\n",
              " 'The Godfather,3',\n",
              " 'Pulp Fiction,4',\n",
              " '12 Angry Men,1',\n",
              " 'The Shawshank Redemption,2',\n",
              " '12 Angry Men,1',\n",
              " 'The Shawshank Redemption,5',\n",
              " 'Pulp Fiction,5',\n",
              " 'Pulp Fiction,2',\n",
              " 'The Matrix,4']"
            ]
          },
          "metadata": {},
          "execution_count": 11
        }
      ]
    },
    {
      "cell_type": "code",
      "source": [
        "# first we need to sum up all the movies and then extract the max values\n",
        "# based on overall movie\n",
        "moviesGroupedByRating = movies.map(lambda x: (x.split(\",\")[0], int(x.split(\",\")[1]) )).reduceByKey(lambda x,y: x+y)\n",
        "\n",
        "moviesGroupedByRating.map(lambda x: (1, (x[0], x[1]) )).reduceByKey(lambda x,y: x if (x[1] > y[1]) else y).collect()\n",
        "\n"
      ],
      "metadata": {
        "colab": {
          "base_uri": "https://localhost:8080/"
        },
        "id": "WV04B9UJirls",
        "outputId": "4452fca3-789e-4755-f8d8-10f578e23daf"
      },
      "execution_count": 65,
      "outputs": [
        {
          "output_type": "execute_result",
          "data": {
            "text/plain": [
              "[(1, ('Pulp Fiction', 19))]"
            ]
          },
          "metadata": {},
          "execution_count": 65
        }
      ]
    },
    {
      "cell_type": "code",
      "source": [
        "# max and min inside every movies\n",
        "grouped_movies= movies.map(lambda x: ( x.split(\",\")[0], int(x.split(\",\")[1]) )).groupByKey()\n",
        "max_rating_movies = grouped_movies.mapValues(max).collect()\n",
        "min_rating_movies = grouped_movies.mapValues(min).collect()\n",
        "\n",
        "max_rating_movies, min_rating_movies"
      ],
      "metadata": {
        "colab": {
          "base_uri": "https://localhost:8080/"
        },
        "id": "oSk7HBBLjG9-",
        "outputId": "e8a7b4d3-5942-463a-fa5b-932ca7dd654e"
      },
      "execution_count": 76,
      "outputs": [
        {
          "output_type": "execute_result",
          "data": {
            "text/plain": [
              "([('The Shawshank Redemption', 5),\n",
              "  ('12 Angry Men', 4),\n",
              "  ('The Godfather', 5),\n",
              "  ('The Matrix', 5),\n",
              "  ('Pulp Fiction', 5)],\n",
              " [('The Shawshank Redemption', 2),\n",
              "  ('12 Angry Men', 1),\n",
              "  ('The Godfather', 3),\n",
              "  ('The Matrix', 4),\n",
              "  ('Pulp Fiction', 2)])"
            ]
          },
          "metadata": {},
          "execution_count": 76
        }
      ]
    },
    {
      "cell_type": "code",
      "source": [
        "# revision of max and min\n",
        "\n",
        "grouped_movies = movies.map(lambda x : (x.split(\",\")[0], x.split(\",\")[1]))\n",
        "grouped_movies.groupByKey().mapValues(max).collect()\n",
        "grouped_movies.groupByKey().mapValues(min).collect() \n",
        "# group by Key returns the key:list(values), so mapValues() will support all the function of list\n",
        "\n",
        "grouped_movies.reduceByKey(lambda x,y : x if x>y else y).collect()\n",
        "grouped_movies.reduceByKey(lambda x,y : x if x<y else y).collect() # on reduce we have our own freedom\n"
      ],
      "metadata": {
        "colab": {
          "base_uri": "https://localhost:8080/"
        },
        "id": "ghzqRfeUmayY",
        "outputId": "65be36a2-78de-4556-aeac-10625ca5c146"
      },
      "execution_count": 17,
      "outputs": [
        {
          "output_type": "execute_result",
          "data": {
            "text/plain": [
              "[('The Shawshank Redemption', '5'),\n",
              " ('12 Angry Men', '4'),\n",
              " ('The Godfather', '5'),\n",
              " ('The Matrix', '5'),\n",
              " ('Pulp Fiction', '5')]"
            ]
          },
          "metadata": {},
          "execution_count": 17
        }
      ]
    },
    {
      "cell_type": "code",
      "source": [
        "# find max and min on city dataset\n",
        "cities = sc.textFile(\"./average_quiz_sample.csv\")\n",
        "cities.collect()\n",
        "\n",
        "grouped_cities = cities.map(lambda x: (x.split(\",\")[1], (x.split(\",\")[0], float(x.split(\",\")[2])) ))\n",
        "max_rated_cities = grouped_cities.reduceByKey(lambda x,y: x if (x[1] > y[1]) else y).collect()\n",
        "min_rated_cities = grouped_cities.reduceByKey(lambda x,y: x if (x[1] < y[1]) else y).collect()\n",
        "\n",
        "max_rated_cities, min_rated_cities"
      ],
      "metadata": {
        "colab": {
          "base_uri": "https://localhost:8080/"
        },
        "id": "gDTbrQEvs20e",
        "outputId": "49f50fee-7fdc-4b37-daaf-a133d4da7305"
      },
      "execution_count": 26,
      "outputs": [
        {
          "output_type": "execute_result",
          "data": {
            "text/plain": [
              "([('NY', ('JAN', 3.0)),\n",
              "  ('CT', ('JAN', 4.0)),\n",
              "  ('PA', ('MAR', 3.0)),\n",
              "  ('NJ', ('MAR', 2.0)),\n",
              "  ('VT', ('MAR', 2.0))],\n",
              " [('NY', ('MAR', 1.0)),\n",
              "  ('CT', ('JAN', 4.0)),\n",
              "  ('PA', ('FEB', 1.0)),\n",
              "  ('NJ', ('FEB', 1.0)),\n",
              "  ('VT', ('FEB', 1.0))])"
            ]
          },
          "metadata": {},
          "execution_count": 26
        }
      ]
    },
    {
      "cell_type": "code",
      "source": [
        "cities.map(lambda x: x.split(\",\") ).collect()"
      ],
      "metadata": {
        "colab": {
          "base_uri": "https://localhost:8080/"
        },
        "id": "zs3vge_YuROZ",
        "outputId": "d0592e21-c67a-4022-c3aa-ed930901a1dd"
      },
      "execution_count": 20,
      "outputs": [
        {
          "output_type": "execute_result",
          "data": {
            "text/plain": [
              "[['JAN', 'NY', '3.0'],\n",
              " ['JAN', 'PA', '1.0'],\n",
              " ['JAN', 'NJ', '2.0'],\n",
              " ['JAN', 'CT', '4.0'],\n",
              " ['FEB', 'PA', '1.0'],\n",
              " ['FEB', 'NJ', '1.0'],\n",
              " ['FEB', 'NY', '2.0'],\n",
              " ['FEB', 'VT', '1.0'],\n",
              " ['MAR', 'NJ', '2.0'],\n",
              " ['MAR', 'NY', '1.0'],\n",
              " ['MAR', 'VT', '2.0'],\n",
              " ['MAR', 'PA', '3.0']]"
            ]
          },
          "metadata": {},
          "execution_count": 20
        }
      ]
    },
    {
      "cell_type": "code",
      "source": [
        "# Mini Project \n",
        "# Analyse Student Data\n",
        "\n",
        "student_data = sc.textFile(\"./StudentData.csv\")"
      ],
      "metadata": {
        "id": "hIn7xcVvursk"
      },
      "execution_count": 49,
      "outputs": []
    },
    {
      "cell_type": "code",
      "source": [
        "# count the number of students in the file\n",
        "student_data.count()"
      ],
      "metadata": {
        "colab": {
          "base_uri": "https://localhost:8080/"
        },
        "id": "1bAZXUw0yMxx",
        "outputId": "5f3a4090-81e1-4ef5-e9fe-f4a081cfe974"
      },
      "execution_count": 42,
      "outputs": [
        {
          "output_type": "execute_result",
          "data": {
            "text/plain": [
              "1001"
            ]
          },
          "metadata": {},
          "execution_count": 42
        }
      ]
    },
    {
      "cell_type": "code",
      "source": [
        "# total marks group by gender\n",
        "\n",
        "# first remove header\n",
        "\n",
        "header = student_data.first()\n",
        "studentMappedData = student_data.filter(lambda x: x != header)\n",
        "studentMappedData.first()\n"
      ],
      "metadata": {
        "colab": {
          "base_uri": "https://localhost:8080/",
          "height": 35
        },
        "id": "zVOdW8-8yyux",
        "outputId": "71ca36aa-3c85-4597-f75c-d8c30ade9ee3"
      },
      "execution_count": 58,
      "outputs": [
        {
          "output_type": "execute_result",
          "data": {
            "text/plain": [
              "'28,Female,Hubert Oliveras,DB,02984,59,Annika Hoffman_Naoma Fritts@OOP.com'"
            ],
            "application/vnd.google.colaboratory.intrinsic+json": {
              "type": "string"
            }
          },
          "metadata": {},
          "execution_count": 58
        }
      ]
    },
    {
      "cell_type": "code",
      "source": [
        "header"
      ],
      "metadata": {
        "colab": {
          "base_uri": "https://localhost:8080/",
          "height": 35
        },
        "id": "rfbCcPQD0QW_",
        "outputId": "59663926-d0a1-4a1d-9bdc-1d0a43170ac9"
      },
      "execution_count": 59,
      "outputs": [
        {
          "output_type": "execute_result",
          "data": {
            "text/plain": [
              "'age,gender,name,course,roll,marks,email'"
            ],
            "application/vnd.google.colaboratory.intrinsic+json": {
              "type": "string"
            }
          },
          "metadata": {},
          "execution_count": 59
        }
      ]
    },
    {
      "cell_type": "code",
      "source": [
        "totalMarks_gender = studentMappedData.map(lambda x: ( x.split(\",\")[1], int(x.split(\",\")[-2])  )).reduceByKey(lambda x,y: x+y)\n",
        "totalMarks_gender.collect()"
      ],
      "metadata": {
        "colab": {
          "base_uri": "https://localhost:8080/"
        },
        "id": "fCPQZBDa2ihf",
        "outputId": "9385f865-544c-4374-e1de-ac10d97dbfcf"
      },
      "execution_count": 61,
      "outputs": [
        {
          "output_type": "execute_result",
          "data": {
            "text/plain": [
              "[('Female', 29636), ('Male', 30461)]"
            ]
          },
          "metadata": {},
          "execution_count": 61
        }
      ]
    },
    {
      "cell_type": "code",
      "source": [
        "# number of students scored > 50\n",
        "studentMappedData.filter(lambda x: (int(x.split(\",\")[-2]) > 50 ) ).count()\n"
      ],
      "metadata": {
        "colab": {
          "base_uri": "https://localhost:8080/"
        },
        "id": "-LyQVKLN26-a",
        "outputId": "3eee30c8-0de4-4f9a-dcf7-0c25ba1d3208"
      },
      "execution_count": 64,
      "outputs": [
        {
          "output_type": "execute_result",
          "data": {
            "text/plain": [
              "630"
            ]
          },
          "metadata": {},
          "execution_count": 64
        }
      ]
    },
    {
      "cell_type": "code",
      "source": [
        "# total number of students group by course\n",
        "studentEnrolledCourse_countBy =  studentMappedData.map(lambda x: x.split(\",\")[3]).countByValue()\n",
        "\n",
        "# using reduce ByKey\n",
        "studentEnrolledCourse_reduce = studentMappedData.map(lambda x: (x.split(\",\")[3], 1)).reduceByKey(lambda x,y: x+y).collect()\n",
        "studentEnrolledCourse_countBy, studentEnrolledCourse_reduce"
      ],
      "metadata": {
        "colab": {
          "base_uri": "https://localhost:8080/"
        },
        "id": "R1-Pwp9S4dUm",
        "outputId": "77bd2d09-2016-4dac-857a-3307f80bd8ed"
      },
      "execution_count": 66,
      "outputs": [
        {
          "output_type": "execute_result",
          "data": {
            "text/plain": [
              "(defaultdict(int,\n",
              "             {'Cloud': 192,\n",
              "              'DB': 157,\n",
              "              'DSA': 176,\n",
              "              'MVC': 157,\n",
              "              'OOP': 152,\n",
              "              'PF': 166}),\n",
              " [('DB', 157),\n",
              "  ('Cloud', 192),\n",
              "  ('PF', 166),\n",
              "  ('MVC', 157),\n",
              "  ('OOP', 152),\n",
              "  ('DSA', 176)])"
            ]
          },
          "metadata": {},
          "execution_count": 66
        }
      ]
    },
    {
      "cell_type": "code",
      "source": [
        "#  total marks group by course\n",
        "studentMappedData.map(lambda x: (x.split(\",\")[3], int(x.split(\",\")[-2])) ).reduceByKey(lambda x,y: x + y ).collect()\n"
      ],
      "metadata": {
        "colab": {
          "base_uri": "https://localhost:8080/"
        },
        "id": "39E0LESV5YcW",
        "outputId": "10e2dfeb-b487-424b-9e31-79646eb674d2"
      },
      "execution_count": 72,
      "outputs": [
        {
          "output_type": "execute_result",
          "data": {
            "text/plain": [
              "[('DB', 9270),\n",
              " ('Cloud', 11443),\n",
              " ('PF', 9933),\n",
              " ('MVC', 9585),\n",
              " ('OOP', 8916),\n",
              " ('DSA', 10950)]"
            ]
          },
          "metadata": {},
          "execution_count": 72
        }
      ]
    },
    {
      "cell_type": "code",
      "source": [
        "# Average marks students have achieved per course\n",
        "totalMarksPerCourse_totalStudents =  studentMappedData.map(lambda x: (x.split(\",\")[3], (int(x.split(\",\")[-2]), 1) )).reduceByKey(lambda x,y: (x[0]+y[0], x[1]+y[1]) )\n",
        "AverageMarksPerCourse = totalMarksPerCourse_totalStudents.map(lambda x: (x[0], round(x[1][0]/x[1][1], 2) ))\n",
        "\n",
        "# we can also perform the same Activity using mapValues() as it only takes the values of the grouped keys ( sum of Marks, number of students) ==> (sumOfMarks/NumberOfStudents)\n",
        "\n",
        "AverageMarksPerCourse.collect()"
      ],
      "metadata": {
        "colab": {
          "base_uri": "https://localhost:8080/"
        },
        "id": "uatWSqsv6Wjr",
        "outputId": "b924b376-ad43-45de-bc4f-93eb3f555c8e"
      },
      "execution_count": 87,
      "outputs": [
        {
          "output_type": "execute_result",
          "data": {
            "text/plain": [
              "[('DB', 59.04),\n",
              " ('Cloud', 59.6),\n",
              " ('PF', 59.84),\n",
              " ('MVC', 61.05),\n",
              " ('OOP', 58.66),\n",
              " ('DSA', 62.22)]"
            ]
          },
          "metadata": {},
          "execution_count": 87
        }
      ]
    },
    {
      "cell_type": "code",
      "source": [
        "# min and max Marks Per course\n",
        "minMarksPerCourse = studentMappedData.map(lambda x: (x.split(\",\")[3], ( x.split(\",\")[2], int(x.split(\",\")[-2]) ) )).reduceByKey(lambda x,y: x if (x[1] < y[1]) else y).collect()\n",
        "\n",
        "minMarksPerCourse\n",
        "\n",
        "maxMarksPerCourse = studentMappedData.map(lambda x: (x.split(\",\")[3], ( x.split(\",\")[2], int(x.split(\",\")[-2]) )  )).reduceByKey(lambda x,y: x if (x[1] > y[1] ) else y ).collect()\n",
        "minMarksPerCourse, maxMarksPerCourse"
      ],
      "metadata": {
        "colab": {
          "base_uri": "https://localhost:8080/"
        },
        "id": "rjpaaR7x79b3",
        "outputId": "4d052b06-6ea0-47b1-c611-b7f79dfd71da"
      },
      "execution_count": 92,
      "outputs": [
        {
          "output_type": "execute_result",
          "data": {
            "text/plain": [
              "([('DB', ('Michelle Ruggiero', 20)),\n",
              "  ('Cloud', ('Maybell Duguay', 20)),\n",
              "  ('PF', ('Michelle Ruggiero', 20)),\n",
              "  ('MVC', ('Maybell Duguay', 22)),\n",
              "  ('OOP', ('Jalisa Swenson', 20)),\n",
              "  ('DSA', ('Gonzalo Ferebee', 20))],\n",
              " [('DB', ('Dustin Feagins', 98)),\n",
              "  ('Cloud', ('Melani Engberg', 99)),\n",
              "  ('PF', ('Eda Neathery', 99)),\n",
              "  ('MVC', ('Gonzalo Ferebee', 99)),\n",
              "  ('OOP', ('Loris Crossett', 99)),\n",
              "  ('DSA', ('Alberta Freund', 99))])"
            ]
          },
          "metadata": {},
          "execution_count": 92
        }
      ]
    },
    {
      "cell_type": "code",
      "source": [
        "# show the avg age of Male and Female students\n",
        "# i.e age group by gender\n",
        "\n",
        "studentsGroupedGender = studentMappedData.map(lambda x: (x.split(\",\")[1], (int(x.split(\",\")[0]), 1) )).reduceByKey(lambda x,y: (x[0]+y[0], x[1]+y[1]) )\n",
        "# calcualte the Avg Age now\n",
        "studentsGroupedGender.map(lambda x: (x[0], round(x[1][0]/x[1][1], 2) )).collect()\n"
      ],
      "metadata": {
        "colab": {
          "base_uri": "https://localhost:8080/"
        },
        "id": "GXmko80J9ofF",
        "outputId": "06269fb7-2cf8-4544-8f73-91993498f8e4"
      },
      "execution_count": 96,
      "outputs": [
        {
          "output_type": "execute_result",
          "data": {
            "text/plain": [
              "[('Female', 28.49), ('Male', 28.52)]"
            ]
          },
          "metadata": {},
          "execution_count": 96
        }
      ]
    },
    {
      "cell_type": "code",
      "source": [
        ""
      ],
      "metadata": {
        "id": "r3dN2ZV5Akx7"
      },
      "execution_count": null,
      "outputs": []
    }
  ]
}