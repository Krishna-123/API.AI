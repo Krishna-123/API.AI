{
  "nbformat": 4,
  "nbformat_minor": 0,
  "metadata": {
    "colab": {
      "name": "Spark_dataFrame.ipynb",
      "provenance": [],
      "authorship_tag": "ABX9TyPqFbSpxa3KmkkfkFyuUETf",
      "include_colab_link": true
    },
    "kernelspec": {
      "name": "python3",
      "display_name": "Python 3"
    },
    "language_info": {
      "name": "python"
    }
  },
  "cells": [
    {
      "cell_type": "markdown",
      "metadata": {
        "id": "view-in-github",
        "colab_type": "text"
      },
      "source": [
        "<a href=\"https://colab.research.google.com/github/Krishna-123/API.AI/blob/master/Spark_dataFrame.ipynb\" target=\"_parent\"><img src=\"https://colab.research.google.com/assets/colab-badge.svg\" alt=\"Open In Colab\"/></a>"
      ]
    },
    {
      "cell_type": "code",
      "execution_count": 1,
      "metadata": {
        "colab": {
          "base_uri": "https://localhost:8080/"
        },
        "id": "4IkeeD8FObER",
        "outputId": "b74d2888-ac17-42de-81cb-5015e8a49b73"
      },
      "outputs": [
        {
          "output_type": "stream",
          "name": "stdout",
          "text": [
            "--2022-06-08 05:42:09--  https://dlcdn.apache.org/spark/spark-3.2.1/spark-3.2.1-bin-hadoop3.2.tgz\n",
            "Resolving dlcdn.apache.org (dlcdn.apache.org)... 151.101.2.132, 2a04:4e42::644\n",
            "Connecting to dlcdn.apache.org (dlcdn.apache.org)|151.101.2.132|:443... connected.\n",
            "HTTP request sent, awaiting response... 200 OK\n",
            "Length: 300971569 (287M) [application/x-gzip]\n",
            "Saving to: ‘spark-3.2.1-bin-hadoop3.2.tgz’\n",
            "\n",
            "spark-3.2.1-bin-had 100%[===================>] 287.03M   226MB/s    in 1.3s    \n",
            "\n",
            "2022-06-08 05:42:11 (226 MB/s) - ‘spark-3.2.1-bin-hadoop3.2.tgz’ saved [300971569/300971569]\n",
            "\n",
            "Looking in indexes: https://pypi.org/simple, https://us-python.pkg.dev/colab-wheels/public/simple/\n",
            "Collecting findspark\n",
            "  Downloading findspark-2.0.1-py2.py3-none-any.whl (4.4 kB)\n",
            "Installing collected packages: findspark\n",
            "Successfully installed findspark-2.0.1\n",
            "/content/spark-3.2.1-bin-hadoop3.2\n"
          ]
        }
      ],
      "source": [
        "!wget https://dlcdn.apache.org/spark/spark-3.2.1/spark-3.2.1-bin-hadoop3.2.tgz\n",
        "\n",
        "!tar xzf spark-3.2.1-bin-hadoop3.2.tgz\n",
        "\n",
        "import os\n",
        "os.environ[\"JAVA_HOME\"] = '/usr/lib/jvm/java-11-openjdk-amd64'\n",
        "os.environ[\"SPARK_HOME\"] = '/content/spark-3.2.1-bin-hadoop3.2'\n",
        "\n",
        "! pip install findspark\n",
        "\n",
        "import findspark as fs\n",
        "fs.init()\n",
        "\n",
        "!echo \"$SPARK_HOME\"\n",
        "\n",
        "# creating configuration and context, context in the entry point and configuration are the basic configurations we need to provide\n",
        "from pyspark import SparkConf, SparkContext\n",
        "\n",
        "conf = SparkConf().setAppName(\"Read File\")\n",
        "sc = SparkContext.getOrCreate(conf)\n",
        "\n",
        "\n"
      ]
    },
    {
      "cell_type": "code",
      "source": [
        "# spark Dataframe works with Spark Session\n",
        "from pyspark.sql import SparkSession\n",
        "spark = SparkSession.builder.appName(\"Spark DataFrame\").getOrCreate()\n",
        "\n"
      ],
      "metadata": {
        "id": "sj8ii9eXO2Th"
      },
      "execution_count": 2,
      "outputs": []
    },
    {
      "cell_type": "code",
      "source": [
        "student_df = spark.read.csv(\"./StudentData.csv\")"
      ],
      "metadata": {
        "id": "L-Gu25TKZEZg"
      },
      "execution_count": 3,
      "outputs": []
    },
    {
      "cell_type": "code",
      "source": [
        "student_df.show(10) # similar to collect\n",
        "# curently we are not reading the headers\n",
        "# we can do so using options(\"headers\", true)"
      ],
      "metadata": {
        "colab": {
          "base_uri": "https://localhost:8080/"
        },
        "id": "dlnAXidcZMc_",
        "outputId": "33d4417b-8fd4-47a6-df14-3f9f57927063"
      },
      "execution_count": 7,
      "outputs": [
        {
          "output_type": "stream",
          "name": "stdout",
          "text": [
            "+---+------+----------------+------+-----+-----+--------------------+\n",
            "|_c0|   _c1|             _c2|   _c3|  _c4|  _c5|                 _c6|\n",
            "+---+------+----------------+------+-----+-----+--------------------+\n",
            "|age|gender|            name|course| roll|marks|               email|\n",
            "| 28|Female| Hubert Oliveras|    DB|02984|   59|Annika Hoffman_Na...|\n",
            "| 29|Female|Toshiko Hillyard| Cloud|12899|   62|Margene Moores_Ma...|\n",
            "| 28|  Male|  Celeste Lollis|    PF|21267|   45|Jeannetta Golden_...|\n",
            "| 29|Female|    Elenore Choy|    DB|32877|   29|Billi Clore_Mitzi...|\n",
            "| 28|  Male|  Sheryll Towler|   DSA|41487|   41|Claude Panos_Judi...|\n",
            "| 28|  Male|  Margene Moores|   MVC|52771|   32|Toshiko Hillyard_...|\n",
            "| 28|  Male|     Neda Briski|   OOP|61973|   69|Alberta Freund_El...|\n",
            "| 28|Female|    Claude Panos| Cloud|72409|   85|Sheryll Towler_Al...|\n",
            "| 28|  Male|  Celeste Lollis|   MVC|81492|   64|Nicole Harwood_Cl...|\n",
            "+---+------+----------------+------+-----+-----+--------------------+\n",
            "only showing top 10 rows\n",
            "\n"
          ]
        }
      ]
    },
    {
      "cell_type": "code",
      "source": [
        "# this will show the data based on headers\n",
        "\n",
        "student_df = spark.read.option(\"header\", True).csv(\"StudentData.csv\")\n",
        "student_df.show()"
      ],
      "metadata": {
        "colab": {
          "base_uri": "https://localhost:8080/"
        },
        "id": "FWTPXAxEZP9X",
        "outputId": "534357d0-5204-4684-f309-a916998cfb91"
      },
      "execution_count": 8,
      "outputs": [
        {
          "output_type": "stream",
          "name": "stdout",
          "text": [
            "+---+------+----------------+------+------+-----+--------------------+\n",
            "|age|gender|            name|course|  roll|marks|               email|\n",
            "+---+------+----------------+------+------+-----+--------------------+\n",
            "| 28|Female| Hubert Oliveras|    DB| 02984|   59|Annika Hoffman_Na...|\n",
            "| 29|Female|Toshiko Hillyard| Cloud| 12899|   62|Margene Moores_Ma...|\n",
            "| 28|  Male|  Celeste Lollis|    PF| 21267|   45|Jeannetta Golden_...|\n",
            "| 29|Female|    Elenore Choy|    DB| 32877|   29|Billi Clore_Mitzi...|\n",
            "| 28|  Male|  Sheryll Towler|   DSA| 41487|   41|Claude Panos_Judi...|\n",
            "| 28|  Male|  Margene Moores|   MVC| 52771|   32|Toshiko Hillyard_...|\n",
            "| 28|  Male|     Neda Briski|   OOP| 61973|   69|Alberta Freund_El...|\n",
            "| 28|Female|    Claude Panos| Cloud| 72409|   85|Sheryll Towler_Al...|\n",
            "| 28|  Male|  Celeste Lollis|   MVC| 81492|   64|Nicole Harwood_Cl...|\n",
            "| 29|  Male|  Cordie Harnois|   OOP| 92882|   51|Judie Chipps_Clem...|\n",
            "| 29|Female|       Kena Wild|   DSA|102285|   35|Dustin Feagins_Ma...|\n",
            "| 29|  Male| Ernest Rossbach|    DB|111449|   53|Maybell Duguay_Ab...|\n",
            "| 28|Female|  Latia Vanhoose|    DB|122502|   27|Latia Vanhoose_Mi...|\n",
            "| 29|Female|  Latia Vanhoose|   MVC|132110|   55|Eda Neathery_Nico...|\n",
            "| 29|  Male|     Neda Briski|    PF|141770|   42|Margene Moores_Mi...|\n",
            "| 29|Female|  Latia Vanhoose|    DB|152159|   27|Claude Panos_Sant...|\n",
            "| 29|  Male|  Loris Crossett|   MVC|161771|   36|Mitzi Seldon_Jenn...|\n",
            "| 29|  Male|  Annika Hoffman|   OOP|171660|   22|Taryn Brownlee_Mi...|\n",
            "| 29|  Male|   Santa Kerfien|    PF|182129|   56|Judie Chipps_Tary...|\n",
            "| 28|Female|Mickey Cortright|    DB|192537|   62|Ernest Rossbach_M...|\n",
            "+---+------+----------------+------+------+-----+--------------------+\n",
            "only showing top 20 rows\n",
            "\n"
          ]
        }
      ]
    },
    {
      "cell_type": "code",
      "source": [
        "student_df.printSchema() \n",
        "# will print the Schema of DF"
      ],
      "metadata": {
        "colab": {
          "base_uri": "https://localhost:8080/"
        },
        "id": "NR4fM-lgZvHT",
        "outputId": "1d69ec04-87c2-4f02-c810-31193a0a22e7"
      },
      "execution_count": 9,
      "outputs": [
        {
          "output_type": "stream",
          "name": "stdout",
          "text": [
            "root\n",
            " |-- age: string (nullable = true)\n",
            " |-- gender: string (nullable = true)\n",
            " |-- name: string (nullable = true)\n",
            " |-- course: string (nullable = true)\n",
            " |-- roll: string (nullable = true)\n",
            " |-- marks: string (nullable = true)\n",
            " |-- email: string (nullable = true)\n",
            "\n"
          ]
        }
      ]
    },
    {
      "cell_type": "code",
      "source": [
        "student_df1 = spark.read.options(header=True, inferSchema=True).csv('./StudentData.csv')"
      ],
      "metadata": {
        "id": "k4spBUof0_25"
      },
      "execution_count": 5,
      "outputs": []
    },
    {
      "cell_type": "code",
      "source": [
        "student_df1.printSchema() \n",
        "# this is power of spark it automatically determine the type of fields"
      ],
      "metadata": {
        "colab": {
          "base_uri": "https://localhost:8080/"
        },
        "id": "58TPbMkc2HTq",
        "outputId": "32a25d03-d20b-4ca7-9655-55d6a98d93c7"
      },
      "execution_count": 11,
      "outputs": [
        {
          "output_type": "stream",
          "name": "stdout",
          "text": [
            "root\n",
            " |-- age: integer (nullable = true)\n",
            " |-- gender: string (nullable = true)\n",
            " |-- name: string (nullable = true)\n",
            " |-- course: string (nullable = true)\n",
            " |-- roll: integer (nullable = true)\n",
            " |-- marks: integer (nullable = true)\n",
            " |-- email: string (nullable = true)\n",
            "\n"
          ]
        }
      ]
    },
    {
      "cell_type": "code",
      "source": [
        "# provide our own schema\n",
        "# first create schema\n",
        "from pyspark.sql.types import StructType, StructField, StringType, IntegerType\n",
        "\n",
        "schema = StructType([\n",
        "                     StructField('age', IntegerType(), True),\n",
        "                     StructField('gender', StringType(), True),\n",
        "                     StructField('name', StringType(), True),\n",
        "                     StructField('course', StringType(), True),\n",
        "                     StructField('roll', StringType(), True),\n",
        "                     StructField('marks', IntegerType(), True),\n",
        "                     StructField('email', StringType(), True),\n",
        "])"
      ],
      "metadata": {
        "id": "oDdR3jZW2KcG"
      },
      "execution_count": 13,
      "outputs": []
    },
    {
      "cell_type": "code",
      "source": [
        "student_df_ownSchema = spark.read.options(header=True, delimeter=',').schema(schema).csv('./StudentData.csv')\n",
        "student_df_ownSchema.printSchema()"
      ],
      "metadata": {
        "colab": {
          "base_uri": "https://localhost:8080/"
        },
        "id": "eb-M5aLb5rnp",
        "outputId": "15efc42b-afe5-4f7f-d010-87124ce60642"
      },
      "execution_count": 14,
      "outputs": [
        {
          "output_type": "stream",
          "name": "stdout",
          "text": [
            "root\n",
            " |-- age: integer (nullable = true)\n",
            " |-- gender: string (nullable = true)\n",
            " |-- name: string (nullable = true)\n",
            " |-- course: string (nullable = true)\n",
            " |-- roll: string (nullable = true)\n",
            " |-- marks: integer (nullable = true)\n",
            " |-- email: string (nullable = true)\n",
            "\n"
          ]
        }
      ]
    },
    {
      "cell_type": "markdown",
      "source": [
        "### RDD to DF"
      ],
      "metadata": {
        "id": "etXWBo-29Vfj"
      }
    },
    {
      "cell_type": "code",
      "source": [
        "student_rdd = sc.textFile(\"./StudentData.csv\")\n",
        "header = student_rdd.first()\n",
        "\n",
        "student_rdd.collect()[:10]\n",
        "\n",
        "\n",
        "student_rdd_new = student_rdd.map(lambda x: x.split(\",\"))\n",
        "# student_rdd_new.collect()[:10]"
      ],
      "metadata": {
        "id": "WQbxvkPi9bu1"
      },
      "execution_count": 26,
      "outputs": []
    },
    {
      "cell_type": "code",
      "source": [
        "student_df = student_rdd_new.toDF()\n",
        "student_df.show(10)\n",
        "# here we can convert it but it has the header part which is string so it would be able to identify them correctly.\n",
        "# Need to remove the header first \n",
        "\n",
        "student_rdd = student_rdd.filter(lambda x: x!=header)\n",
        "student_rdd_new = student_rdd.map(lambda x: x.split(\",\"))\n",
        "\n",
        "\n",
        "student_df = student_rdd_new.toDF(header.split(\",\")) # passing headers in the parameter\n",
        "student_df.show(10)"
      ],
      "metadata": {
        "colab": {
          "base_uri": "https://localhost:8080/"
        },
        "id": "pNpeNZV497su",
        "outputId": "2a846cbd-af5d-4780-bccf-0ad0055beb36"
      },
      "execution_count": 31,
      "outputs": [
        {
          "output_type": "stream",
          "name": "stdout",
          "text": [
            "+---+------+----------------+-----+-----+---+--------------------+\n",
            "| _1|    _2|              _3|   _4|   _5| _6|                  _7|\n",
            "+---+------+----------------+-----+-----+---+--------------------+\n",
            "| 28|Female| Hubert Oliveras|   DB|02984| 59|Annika Hoffman_Na...|\n",
            "| 29|Female|Toshiko Hillyard|Cloud|12899| 62|Margene Moores_Ma...|\n",
            "| 28|  Male|  Celeste Lollis|   PF|21267| 45|Jeannetta Golden_...|\n",
            "| 29|Female|    Elenore Choy|   DB|32877| 29|Billi Clore_Mitzi...|\n",
            "| 28|  Male|  Sheryll Towler|  DSA|41487| 41|Claude Panos_Judi...|\n",
            "| 28|  Male|  Margene Moores|  MVC|52771| 32|Toshiko Hillyard_...|\n",
            "| 28|  Male|     Neda Briski|  OOP|61973| 69|Alberta Freund_El...|\n",
            "| 28|Female|    Claude Panos|Cloud|72409| 85|Sheryll Towler_Al...|\n",
            "| 28|  Male|  Celeste Lollis|  MVC|81492| 64|Nicole Harwood_Cl...|\n",
            "| 29|  Male|  Cordie Harnois|  OOP|92882| 51|Judie Chipps_Clem...|\n",
            "+---+------+----------------+-----+-----+---+--------------------+\n",
            "only showing top 10 rows\n",
            "\n",
            "+---+------+----------------+------+-----+-----+--------------------+\n",
            "|age|gender|            name|course| roll|marks|               email|\n",
            "+---+------+----------------+------+-----+-----+--------------------+\n",
            "| 28|Female| Hubert Oliveras|    DB|02984|   59|Annika Hoffman_Na...|\n",
            "| 29|Female|Toshiko Hillyard| Cloud|12899|   62|Margene Moores_Ma...|\n",
            "| 28|  Male|  Celeste Lollis|    PF|21267|   45|Jeannetta Golden_...|\n",
            "| 29|Female|    Elenore Choy|    DB|32877|   29|Billi Clore_Mitzi...|\n",
            "| 28|  Male|  Sheryll Towler|   DSA|41487|   41|Claude Panos_Judi...|\n",
            "| 28|  Male|  Margene Moores|   MVC|52771|   32|Toshiko Hillyard_...|\n",
            "| 28|  Male|     Neda Briski|   OOP|61973|   69|Alberta Freund_El...|\n",
            "| 28|Female|    Claude Panos| Cloud|72409|   85|Sheryll Towler_Al...|\n",
            "| 28|  Male|  Celeste Lollis|   MVC|81492|   64|Nicole Harwood_Cl...|\n",
            "| 29|  Male|  Cordie Harnois|   OOP|92882|   51|Judie Chipps_Clem...|\n",
            "+---+------+----------------+------+-----+-----+--------------------+\n",
            "only showing top 10 rows\n",
            "\n"
          ]
        }
      ]
    },
    {
      "cell_type": "code",
      "source": [
        "student_df.printSchema()"
      ],
      "metadata": {
        "colab": {
          "base_uri": "https://localhost:8080/"
        },
        "id": "e8yQ2NOG9-uk",
        "outputId": "6a32e1ee-fbad-46ef-8aae-0308ca799d08"
      },
      "execution_count": 34,
      "outputs": [
        {
          "output_type": "stream",
          "name": "stdout",
          "text": [
            "root\n",
            " |-- age: string (nullable = true)\n",
            " |-- gender: string (nullable = true)\n",
            " |-- name: string (nullable = true)\n",
            " |-- course: string (nullable = true)\n",
            " |-- roll: string (nullable = true)\n",
            " |-- marks: string (nullable = true)\n",
            " |-- email: string (nullable = true)\n",
            "\n"
          ]
        }
      ]
    },
    {
      "cell_type": "code",
      "source": [
        "# using createDataFrame() to pass own schema\n",
        "df_rdd=  spark.createDataFrame(student_rdd_new, schema=schema)"
      ],
      "metadata": {
        "id": "MHmqZ9Jj-8ke"
      },
      "execution_count": 40,
      "outputs": []
    },
    {
      "cell_type": "code",
      "source": [
        "df_rdd.printSchema()\n",
        "# but df_rdd.show() will throw error values are in string"
      ],
      "metadata": {
        "colab": {
          "base_uri": "https://localhost:8080/"
        },
        "id": "JBGjaM2RB3fa",
        "outputId": "db657bc9-8e51-42bc-de4b-1dd6a651bc1d"
      },
      "execution_count": 44,
      "outputs": [
        {
          "output_type": "stream",
          "name": "stdout",
          "text": [
            "root\n",
            " |-- age: integer (nullable = true)\n",
            " |-- gender: string (nullable = true)\n",
            " |-- name: string (nullable = true)\n",
            " |-- course: string (nullable = true)\n",
            " |-- roll: string (nullable = true)\n",
            " |-- marks: integer (nullable = true)\n",
            " |-- email: string (nullable = true)\n",
            "\n"
          ]
        }
      ]
    },
    {
      "cell_type": "code",
      "source": [
        "student_rdd_new.collect()[:2]"
      ],
      "metadata": {
        "colab": {
          "base_uri": "https://localhost:8080/"
        },
        "id": "NFlJQiyCHEqo",
        "outputId": "45064a9a-36da-486d-c101-32e1f648c3f5"
      },
      "execution_count": 46,
      "outputs": [
        {
          "output_type": "execute_result",
          "data": {
            "text/plain": [
              "[['28',\n",
              "  'Female',\n",
              "  'Hubert Oliveras',\n",
              "  'DB',\n",
              "  '02984',\n",
              "  '59',\n",
              "  'Annika Hoffman_Naoma Fritts@OOP.com'],\n",
              " ['29',\n",
              "  'Female',\n",
              "  'Toshiko Hillyard',\n",
              "  'Cloud',\n",
              "  '12899',\n",
              "  '62',\n",
              "  'Margene Moores_Marylee Capasso@DB.com']]"
            ]
          },
          "metadata": {},
          "execution_count": 46
        }
      ]
    },
    {
      "cell_type": "code",
      "source": [
        "student_rdd_new.map(lambda x: [int(x[0]),x[1],x[2],x[3],x[4],int(x[5]),x[6] ]).collect()[:10]"
      ],
      "metadata": {
        "id": "xYPCltDsH0KI"
      },
      "execution_count": 56,
      "outputs": []
    },
    {
      "cell_type": "code",
      "source": [
        "# converting the values of RDD to integer then pass it as RDD alone with schema\n",
        "df_rdd1 = spark.createDataFrame(student_rdd_new.map(lambda x: [int(x[0]),x[1],x[2],x[3],x[4],int(x[5]),x[6] ]), schema)"
      ],
      "metadata": {
        "id": "9YJlnFUNDMnj"
      },
      "execution_count": 53,
      "outputs": []
    },
    {
      "cell_type": "code",
      "source": [
        "df_rdd1.printSchema()"
      ],
      "metadata": {
        "colab": {
          "base_uri": "https://localhost:8080/"
        },
        "id": "CxGL4Wc6Hhn0",
        "outputId": "1384a5de-81a3-4b98-e962-a901fceca938"
      },
      "execution_count": 54,
      "outputs": [
        {
          "output_type": "stream",
          "name": "stdout",
          "text": [
            "root\n",
            " |-- age: integer (nullable = true)\n",
            " |-- gender: string (nullable = true)\n",
            " |-- name: string (nullable = true)\n",
            " |-- course: string (nullable = true)\n",
            " |-- roll: string (nullable = true)\n",
            " |-- marks: integer (nullable = true)\n",
            " |-- email: string (nullable = true)\n",
            "\n"
          ]
        }
      ]
    },
    {
      "cell_type": "code",
      "source": [
        "df_rdd1.show(10) # now it will work as we converted the values to int"
      ],
      "metadata": {
        "colab": {
          "base_uri": "https://localhost:8080/"
        },
        "id": "CXyAlOi8HkxT",
        "outputId": "6e20fdd1-d59c-40dc-8a6b-6fd303350fe8"
      },
      "execution_count": 55,
      "outputs": [
        {
          "output_type": "stream",
          "name": "stdout",
          "text": [
            "+---+------+----------------+------+-----+-----+--------------------+\n",
            "|age|gender|            name|course| roll|marks|               email|\n",
            "+---+------+----------------+------+-----+-----+--------------------+\n",
            "| 28|Female| Hubert Oliveras|    DB|02984|   59|Annika Hoffman_Na...|\n",
            "| 29|Female|Toshiko Hillyard| Cloud|12899|   62|Margene Moores_Ma...|\n",
            "| 28|  Male|  Celeste Lollis|    PF|21267|   45|Jeannetta Golden_...|\n",
            "| 29|Female|    Elenore Choy|    DB|32877|   29|Billi Clore_Mitzi...|\n",
            "| 28|  Male|  Sheryll Towler|   DSA|41487|   41|Claude Panos_Judi...|\n",
            "| 28|  Male|  Margene Moores|   MVC|52771|   32|Toshiko Hillyard_...|\n",
            "| 28|  Male|     Neda Briski|   OOP|61973|   69|Alberta Freund_El...|\n",
            "| 28|Female|    Claude Panos| Cloud|72409|   85|Sheryll Towler_Al...|\n",
            "| 28|  Male|  Celeste Lollis|   MVC|81492|   64|Nicole Harwood_Cl...|\n",
            "| 29|  Male|  Cordie Harnois|   OOP|92882|   51|Judie Chipps_Clem...|\n",
            "+---+------+----------------+------+-----+-----+--------------------+\n",
            "only showing top 10 rows\n",
            "\n"
          ]
        }
      ]
    },
    {
      "cell_type": "markdown",
      "source": [
        "### DF Select Columns"
      ],
      "metadata": {
        "id": "RuSlwMMR5yF-"
      }
    },
    {
      "cell_type": "code",
      "source": [
        "student_df1.printSchema()"
      ],
      "metadata": {
        "colab": {
          "base_uri": "https://localhost:8080/"
        },
        "id": "5lbkyZvy55Cc",
        "outputId": "82734177-3fa4-4c38-9a18-db2737702902"
      },
      "execution_count": 6,
      "outputs": [
        {
          "output_type": "stream",
          "name": "stdout",
          "text": [
            "root\n",
            " |-- age: integer (nullable = true)\n",
            " |-- gender: string (nullable = true)\n",
            " |-- name: string (nullable = true)\n",
            " |-- course: string (nullable = true)\n",
            " |-- roll: integer (nullable = true)\n",
            " |-- marks: integer (nullable = true)\n",
            " |-- email: string (nullable = true)\n",
            "\n"
          ]
        }
      ]
    },
    {
      "cell_type": "code",
      "source": [
        "student_df1.show(10)"
      ],
      "metadata": {
        "colab": {
          "base_uri": "https://localhost:8080/"
        },
        "id": "EUmEhIRW6Bzh",
        "outputId": "247a9fc8-e9c0-4dea-c492-438a88daa377"
      },
      "execution_count": 7,
      "outputs": [
        {
          "output_type": "stream",
          "name": "stdout",
          "text": [
            "+---+------+----------------+------+-----+-----+--------------------+\n",
            "|age|gender|            name|course| roll|marks|               email|\n",
            "+---+------+----------------+------+-----+-----+--------------------+\n",
            "| 28|Female| Hubert Oliveras|    DB| 2984|   59|Annika Hoffman_Na...|\n",
            "| 29|Female|Toshiko Hillyard| Cloud|12899|   62|Margene Moores_Ma...|\n",
            "| 28|  Male|  Celeste Lollis|    PF|21267|   45|Jeannetta Golden_...|\n",
            "| 29|Female|    Elenore Choy|    DB|32877|   29|Billi Clore_Mitzi...|\n",
            "| 28|  Male|  Sheryll Towler|   DSA|41487|   41|Claude Panos_Judi...|\n",
            "| 28|  Male|  Margene Moores|   MVC|52771|   32|Toshiko Hillyard_...|\n",
            "| 28|  Male|     Neda Briski|   OOP|61973|   69|Alberta Freund_El...|\n",
            "| 28|Female|    Claude Panos| Cloud|72409|   85|Sheryll Towler_Al...|\n",
            "| 28|  Male|  Celeste Lollis|   MVC|81492|   64|Nicole Harwood_Cl...|\n",
            "| 29|  Male|  Cordie Harnois|   OOP|92882|   51|Judie Chipps_Clem...|\n",
            "+---+------+----------------+------+-----+-----+--------------------+\n",
            "only showing top 10 rows\n",
            "\n"
          ]
        }
      ]
    },
    {
      "cell_type": "code",
      "source": [
        "student_df1.select(\"age\", \"gender\").show(3)\n",
        "\n",
        "student_df1.select(student_df1.age).show(3)\n"
      ],
      "metadata": {
        "colab": {
          "base_uri": "https://localhost:8080/"
        },
        "id": "k01Bdahk6KVg",
        "outputId": "72e951a2-5d9a-4bad-be88-05fa484f9447"
      },
      "execution_count": 19,
      "outputs": [
        {
          "output_type": "stream",
          "name": "stdout",
          "text": [
            "+---+------+\n",
            "|age|gender|\n",
            "+---+------+\n",
            "| 28|Female|\n",
            "| 29|Female|\n",
            "| 28|  Male|\n",
            "+---+------+\n",
            "only showing top 3 rows\n",
            "\n",
            "+---+\n",
            "|age|\n",
            "+---+\n",
            "| 28|\n",
            "| 29|\n",
            "| 28|\n",
            "+---+\n",
            "only showing top 3 rows\n",
            "\n"
          ]
        }
      ]
    },
    {
      "cell_type": "code",
      "source": [
        "print(student_df1.columns) # list of columns\n",
        "\n",
        "student_df1.select(student_df1.columns).show(3)\n",
        "\n",
        "# can also do the slicing over column list\n",
        "student_df1.select(student_df1.columns[:3]).show(3) # will only return the first 3 column \n",
        "\n",
        "# to get all the columns\n",
        "student_df1.show(3)\n",
        "student_df1.select(\"*\").show(3)"
      ],
      "metadata": {
        "colab": {
          "base_uri": "https://localhost:8080/"
        },
        "id": "LEmewr4p6Pxp",
        "outputId": "a22eca77-850f-4095-8e99-97eb86abce0f"
      },
      "execution_count": 22,
      "outputs": [
        {
          "output_type": "stream",
          "name": "stdout",
          "text": [
            "['age', 'gender', 'name', 'course', 'roll', 'marks', 'email']\n",
            "+---+------+----------------+------+-----+-----+--------------------+\n",
            "|age|gender|            name|course| roll|marks|               email|\n",
            "+---+------+----------------+------+-----+-----+--------------------+\n",
            "| 28|Female| Hubert Oliveras|    DB| 2984|   59|Annika Hoffman_Na...|\n",
            "| 29|Female|Toshiko Hillyard| Cloud|12899|   62|Margene Moores_Ma...|\n",
            "| 28|  Male|  Celeste Lollis|    PF|21267|   45|Jeannetta Golden_...|\n",
            "+---+------+----------------+------+-----+-----+--------------------+\n",
            "only showing top 3 rows\n",
            "\n",
            "+---+------+----------------+\n",
            "|age|gender|            name|\n",
            "+---+------+----------------+\n",
            "| 28|Female| Hubert Oliveras|\n",
            "| 29|Female|Toshiko Hillyard|\n",
            "| 28|  Male|  Celeste Lollis|\n",
            "+---+------+----------------+\n",
            "only showing top 3 rows\n",
            "\n",
            "+---+------+----------------+------+-----+-----+--------------------+\n",
            "|age|gender|            name|course| roll|marks|               email|\n",
            "+---+------+----------------+------+-----+-----+--------------------+\n",
            "| 28|Female| Hubert Oliveras|    DB| 2984|   59|Annika Hoffman_Na...|\n",
            "| 29|Female|Toshiko Hillyard| Cloud|12899|   62|Margene Moores_Ma...|\n",
            "| 28|  Male|  Celeste Lollis|    PF|21267|   45|Jeannetta Golden_...|\n",
            "+---+------+----------------+------+-----+-----+--------------------+\n",
            "only showing top 3 rows\n",
            "\n",
            "+---+------+----------------+------+-----+-----+--------------------+\n",
            "|age|gender|            name|course| roll|marks|               email|\n",
            "+---+------+----------------+------+-----+-----+--------------------+\n",
            "| 28|Female| Hubert Oliveras|    DB| 2984|   59|Annika Hoffman_Na...|\n",
            "| 29|Female|Toshiko Hillyard| Cloud|12899|   62|Margene Moores_Ma...|\n",
            "| 28|  Male|  Celeste Lollis|    PF|21267|   45|Jeannetta Golden_...|\n",
            "+---+------+----------------+------+-----+-----+--------------------+\n",
            "only showing top 3 rows\n",
            "\n"
          ]
        }
      ]
    },
    {
      "cell_type": "code",
      "source": [
        "#  withColumn -- to modify the types of column in dataframe\n",
        "\n",
        "student_df1.printSchema() # let's convert roll to string"
      ],
      "metadata": {
        "colab": {
          "base_uri": "https://localhost:8080/"
        },
        "id": "ZMLUhl1Y7AMo",
        "outputId": "d4374803-ad6d-4c26-c7a7-44383e61bea3"
      },
      "execution_count": 24,
      "outputs": [
        {
          "output_type": "stream",
          "name": "stdout",
          "text": [
            "root\n",
            " |-- age: integer (nullable = true)\n",
            " |-- gender: string (nullable = true)\n",
            " |-- name: string (nullable = true)\n",
            " |-- course: string (nullable = true)\n",
            " |-- roll: integer (nullable = true)\n",
            " |-- marks: integer (nullable = true)\n",
            " |-- email: string (nullable = true)\n",
            "\n"
          ]
        }
      ]
    },
    {
      "cell_type": "code",
      "source": [
        "# withColmn allow to operate on the existing column into the df, we can add new col or even replace the existing one\n",
        "student_df1.withColumn('roll_string', col=student_df1.roll.cast('string')).show(4)\n",
        "student_df1.withColumn('roll_string', col=student_df1.roll.cast('string')).printSchema() # return the new column with String type\n",
        "\n"
      ],
      "metadata": {
        "colab": {
          "base_uri": "https://localhost:8080/"
        },
        "id": "tVLm_5Fr9Qik",
        "outputId": "fc874ed6-6b4b-4c1c-83a3-611cbf810147"
      },
      "execution_count": 27,
      "outputs": [
        {
          "output_type": "stream",
          "name": "stdout",
          "text": [
            "+---+------+----------------+------+-----+-----+--------------------+-----------+\n",
            "|age|gender|            name|course| roll|marks|               email|roll_string|\n",
            "+---+------+----------------+------+-----+-----+--------------------+-----------+\n",
            "| 28|Female| Hubert Oliveras|    DB| 2984|   59|Annika Hoffman_Na...|       2984|\n",
            "| 29|Female|Toshiko Hillyard| Cloud|12899|   62|Margene Moores_Ma...|      12899|\n",
            "| 28|  Male|  Celeste Lollis|    PF|21267|   45|Jeannetta Golden_...|      21267|\n",
            "| 29|Female|    Elenore Choy|    DB|32877|   29|Billi Clore_Mitzi...|      32877|\n",
            "+---+------+----------------+------+-----+-----+--------------------+-----------+\n",
            "only showing top 4 rows\n",
            "\n",
            "root\n",
            " |-- age: integer (nullable = true)\n",
            " |-- gender: string (nullable = true)\n",
            " |-- name: string (nullable = true)\n",
            " |-- course: string (nullable = true)\n",
            " |-- roll: integer (nullable = true)\n",
            " |-- marks: integer (nullable = true)\n",
            " |-- email: string (nullable = true)\n",
            " |-- roll_string: string (nullable = true)\n",
            "\n"
          ]
        }
      ]
    },
    {
      "cell_type": "code",
      "source": [
        "#  to manipulate the df we need to use withColumn\n",
        "# example add 20 in the marks column\n",
        "student_df1.withColumn('updatedMarks', col=student_df1.marks + 20).show(10)"
      ],
      "metadata": {
        "colab": {
          "base_uri": "https://localhost:8080/"
        },
        "id": "bhHOi85j91Aw",
        "outputId": "35eafe9c-96df-457b-f6a6-4940a213d0df"
      },
      "execution_count": 28,
      "outputs": [
        {
          "output_type": "stream",
          "name": "stdout",
          "text": [
            "+---+------+----------------+------+-----+-----+--------------------+------------+\n",
            "|age|gender|            name|course| roll|marks|               email|updatedMarks|\n",
            "+---+------+----------------+------+-----+-----+--------------------+------------+\n",
            "| 28|Female| Hubert Oliveras|    DB| 2984|   59|Annika Hoffman_Na...|          79|\n",
            "| 29|Female|Toshiko Hillyard| Cloud|12899|   62|Margene Moores_Ma...|          82|\n",
            "| 28|  Male|  Celeste Lollis|    PF|21267|   45|Jeannetta Golden_...|          65|\n",
            "| 29|Female|    Elenore Choy|    DB|32877|   29|Billi Clore_Mitzi...|          49|\n",
            "| 28|  Male|  Sheryll Towler|   DSA|41487|   41|Claude Panos_Judi...|          61|\n",
            "| 28|  Male|  Margene Moores|   MVC|52771|   32|Toshiko Hillyard_...|          52|\n",
            "| 28|  Male|     Neda Briski|   OOP|61973|   69|Alberta Freund_El...|          89|\n",
            "| 28|Female|    Claude Panos| Cloud|72409|   85|Sheryll Towler_Al...|         105|\n",
            "| 28|  Male|  Celeste Lollis|   MVC|81492|   64|Nicole Harwood_Cl...|          84|\n",
            "| 29|  Male|  Cordie Harnois|   OOP|92882|   51|Judie Chipps_Clem...|          71|\n",
            "+---+------+----------------+------+-----+-----+--------------------+------------+\n",
            "only showing top 10 rows\n",
            "\n"
          ]
        }
      ]
    },
    {
      "cell_type": "code",
      "source": [
        "#  to add literal into a new column\n",
        "\n",
        "from pyspark.sql.functions import lit\n",
        "student_df1.withColumn(\"country\", lit(\"UAS\")).show(10)"
      ],
      "metadata": {
        "colab": {
          "base_uri": "https://localhost:8080/"
        },
        "id": "pU02OcbnACrj",
        "outputId": "641dfeae-877a-4da7-e2f6-938cc359e348"
      },
      "execution_count": 30,
      "outputs": [
        {
          "output_type": "stream",
          "name": "stdout",
          "text": [
            "+---+------+----------------+------+-----+-----+--------------------+-------+\n",
            "|age|gender|            name|course| roll|marks|               email|country|\n",
            "+---+------+----------------+------+-----+-----+--------------------+-------+\n",
            "| 28|Female| Hubert Oliveras|    DB| 2984|   59|Annika Hoffman_Na...|    UAS|\n",
            "| 29|Female|Toshiko Hillyard| Cloud|12899|   62|Margene Moores_Ma...|    UAS|\n",
            "| 28|  Male|  Celeste Lollis|    PF|21267|   45|Jeannetta Golden_...|    UAS|\n",
            "| 29|Female|    Elenore Choy|    DB|32877|   29|Billi Clore_Mitzi...|    UAS|\n",
            "| 28|  Male|  Sheryll Towler|   DSA|41487|   41|Claude Panos_Judi...|    UAS|\n",
            "| 28|  Male|  Margene Moores|   MVC|52771|   32|Toshiko Hillyard_...|    UAS|\n",
            "| 28|  Male|     Neda Briski|   OOP|61973|   69|Alberta Freund_El...|    UAS|\n",
            "| 28|Female|    Claude Panos| Cloud|72409|   85|Sheryll Towler_Al...|    UAS|\n",
            "| 28|  Male|  Celeste Lollis|   MVC|81492|   64|Nicole Harwood_Cl...|    UAS|\n",
            "| 29|  Male|  Cordie Harnois|   OOP|92882|   51|Judie Chipps_Clem...|    UAS|\n",
            "+---+------+----------------+------+-----+-----+--------------------+-------+\n",
            "only showing top 10 rows\n",
            "\n"
          ]
        }
      ]
    },
    {
      "cell_type": "code",
      "source": [
        "student_df1.select(student_df1.name.alias('full name')).show(10)"
      ],
      "metadata": {
        "colab": {
          "base_uri": "https://localhost:8080/"
        },
        "id": "9N3fOGRDCjc8",
        "outputId": "641780b6-2194-4261-9fb9-065544f01a01"
      },
      "execution_count": 34,
      "outputs": [
        {
          "output_type": "stream",
          "name": "stdout",
          "text": [
            "+----------------+\n",
            "|       full name|\n",
            "+----------------+\n",
            "| Hubert Oliveras|\n",
            "|Toshiko Hillyard|\n",
            "|  Celeste Lollis|\n",
            "|    Elenore Choy|\n",
            "|  Sheryll Towler|\n",
            "|  Margene Moores|\n",
            "|     Neda Briski|\n",
            "|    Claude Panos|\n",
            "|  Celeste Lollis|\n",
            "|  Cordie Harnois|\n",
            "+----------------+\n",
            "only showing top 10 rows\n",
            "\n"
          ]
        }
      ]
    },
    {
      "cell_type": "code",
      "source": [
        "# filtering the DataFrame\n",
        "\n",
        "student_df1.filter((student_df1.course =='DSA') & (student_df1.marks >50) ).show(10)\n",
        "\n",
        "# to pass the multiple values using isin\n",
        "student_df1.filter((student_df1.course.isin(['DSA', 'Cloud']))).show(5)\n",
        "\n"
      ],
      "metadata": {
        "colab": {
          "base_uri": "https://localhost:8080/"
        },
        "id": "si4s_bi5GFVu",
        "outputId": "d0108277-ee13-4790-9c87-17ec2270b817"
      },
      "execution_count": 39,
      "outputs": [
        {
          "output_type": "stream",
          "name": "stdout",
          "text": [
            "+---+------+--------------+------+------+-----+--------------------+\n",
            "|age|gender|          name|course|  roll|marks|               email|\n",
            "+---+------+--------------+------+------+-----+--------------------+\n",
            "| 28|Female|  Jc Andrepont|   DSA|232060|   58|Billi Clore_Abram...|\n",
            "| 29|Female|  Paris Hutton|   DSA|271472|   99|Sheryll Towler_Al...|\n",
            "| 28|Female|Dustin Feagins|   DSA|291984|   82|Abram Nagao_Kena ...|\n",
            "| 29|Female|  Paris Hutton|   DSA|492159|   60|Nicole Harwood_Ma...|\n",
            "| 29|  Male|Celeste Lollis|   DSA|562065|   85|Jc Andrepont_Mela...|\n",
            "| 29|  Male|Maybell Duguay|   DSA|592061|   83|Eda Neathery_Jenn...|\n",
            "| 28|Female|Celeste Lollis|   DSA|731879|   76|Hubert Oliveras_G...|\n",
            "| 28|  Male|Sheryll Towler|   DSA|831562|   59|Kena Wild_Gonzalo...|\n",
            "| 28|Female|Sheryll Towler|   DSA|871967|   64|Michelle Ruggiero...|\n",
            "| 28|  Male|Margene Moores|   DSA|892010|   93|Anna Santos_Naoma...|\n",
            "+---+------+--------------+------+------+-----+--------------------+\n",
            "only showing top 10 rows\n",
            "\n",
            "+---+------+----------------+------+------+-----+--------------------+\n",
            "|age|gender|            name|course|  roll|marks|               email|\n",
            "+---+------+----------------+------+------+-----+--------------------+\n",
            "| 29|Female|Toshiko Hillyard| Cloud| 12899|   62|Margene Moores_Ma...|\n",
            "| 28|  Male|  Sheryll Towler|   DSA| 41487|   41|Claude Panos_Judi...|\n",
            "| 28|Female|    Claude Panos| Cloud| 72409|   85|Sheryll Towler_Al...|\n",
            "| 29|Female|       Kena Wild|   DSA|102285|   35|Dustin Feagins_Ma...|\n",
            "| 28|Female|       Kena Wild| Cloud|221750|   60|Mitzi Seldon_Jenn...|\n",
            "+---+------+----------------+------+------+-----+--------------------+\n",
            "only showing top 5 rows\n",
            "\n"
          ]
        }
      ]
    },
    {
      "cell_type": "code",
      "source": [
        ""
      ],
      "metadata": {
        "id": "pjDobUOTK8xv"
      },
      "execution_count": null,
      "outputs": []
    }
  ]
}