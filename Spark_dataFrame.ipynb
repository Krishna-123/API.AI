{
  "nbformat": 4,
  "nbformat_minor": 0,
  "metadata": {
    "colab": {
      "name": "Spark_dataFrame.ipynb",
      "provenance": [],
      "authorship_tag": "ABX9TyNbnx6jUEkzmXncGp/GDy+C",
      "include_colab_link": true
    },
    "kernelspec": {
      "name": "python3",
      "display_name": "Python 3"
    },
    "language_info": {
      "name": "python"
    }
  },
  "cells": [
    {
      "cell_type": "markdown",
      "metadata": {
        "id": "view-in-github",
        "colab_type": "text"
      },
      "source": [
        "<a href=\"https://colab.research.google.com/github/Krishna-123/API.AI/blob/master/Spark_dataFrame.ipynb\" target=\"_parent\"><img src=\"https://colab.research.google.com/assets/colab-badge.svg\" alt=\"Open In Colab\"/></a>"
      ]
    },
    {
      "cell_type": "code",
      "execution_count": 1,
      "metadata": {
        "colab": {
          "base_uri": "https://localhost:8080/"
        },
        "id": "4IkeeD8FObER",
        "outputId": "65c92fc1-a080-4abe-fb52-83bb4028634d"
      },
      "outputs": [
        {
          "output_type": "stream",
          "name": "stdout",
          "text": [
            "--2022-06-09 04:56:26--  https://dlcdn.apache.org/spark/spark-3.2.1/spark-3.2.1-bin-hadoop3.2.tgz\n",
            "Resolving dlcdn.apache.org (dlcdn.apache.org)... 151.101.2.132, 2a04:4e42::644\n",
            "Connecting to dlcdn.apache.org (dlcdn.apache.org)|151.101.2.132|:443... connected.\n",
            "HTTP request sent, awaiting response... 200 OK\n",
            "Length: 300971569 (287M) [application/x-gzip]\n",
            "Saving to: ‘spark-3.2.1-bin-hadoop3.2.tgz’\n",
            "\n",
            "spark-3.2.1-bin-had 100%[===================>] 287.03M   245MB/s    in 1.2s    \n",
            "\n",
            "2022-06-09 04:56:27 (245 MB/s) - ‘spark-3.2.1-bin-hadoop3.2.tgz’ saved [300971569/300971569]\n",
            "\n",
            "Looking in indexes: https://pypi.org/simple, https://us-python.pkg.dev/colab-wheels/public/simple/\n",
            "Collecting findspark\n",
            "  Downloading findspark-2.0.1-py2.py3-none-any.whl (4.4 kB)\n",
            "Installing collected packages: findspark\n",
            "Successfully installed findspark-2.0.1\n",
            "/content/spark-3.2.1-bin-hadoop3.2\n"
          ]
        }
      ],
      "source": [
        "!wget https://dlcdn.apache.org/spark/spark-3.2.1/spark-3.2.1-bin-hadoop3.2.tgz\n",
        "\n",
        "!tar xzf spark-3.2.1-bin-hadoop3.2.tgz\n",
        "\n",
        "import os\n",
        "os.environ[\"JAVA_HOME\"] = '/usr/lib/jvm/java-11-openjdk-amd64'\n",
        "os.environ[\"SPARK_HOME\"] = '/content/spark-3.2.1-bin-hadoop3.2'\n",
        "\n",
        "! pip install findspark\n",
        "\n",
        "import findspark as fs\n",
        "fs.init()\n",
        "\n",
        "!echo \"$SPARK_HOME\"\n",
        "\n",
        "# creating configuration and context, context in the entry point and configuration are the basic configurations we need to provide\n",
        "from pyspark import SparkConf, SparkContext\n",
        "\n",
        "conf = SparkConf().setAppName(\"Read File\")\n",
        "sc = SparkContext.getOrCreate(conf)\n",
        "\n",
        "\n"
      ]
    },
    {
      "cell_type": "code",
      "source": [
        "# spark Dataframe works with Spark Session\n",
        "from pyspark.sql import SparkSession\n",
        "spark = SparkSession.builder.appName(\"Spark DataFrame\").getOrCreate()\n",
        "\n"
      ],
      "metadata": {
        "id": "sj8ii9eXO2Th"
      },
      "execution_count": 2,
      "outputs": []
    },
    {
      "cell_type": "code",
      "source": [
        "student_df = spark.read.csv(\"./StudentData.csv\")"
      ],
      "metadata": {
        "id": "L-Gu25TKZEZg"
      },
      "execution_count": null,
      "outputs": []
    },
    {
      "cell_type": "code",
      "source": [
        "student_df.show(10) # similar to collect\n",
        "# curently we are not reading the headers\n",
        "# we can do so using options(\"headers\", true)"
      ],
      "metadata": {
        "colab": {
          "base_uri": "https://localhost:8080/"
        },
        "id": "dlnAXidcZMc_",
        "outputId": "33d4417b-8fd4-47a6-df14-3f9f57927063"
      },
      "execution_count": null,
      "outputs": [
        {
          "output_type": "stream",
          "name": "stdout",
          "text": [
            "+---+------+----------------+------+-----+-----+--------------------+\n",
            "|_c0|   _c1|             _c2|   _c3|  _c4|  _c5|                 _c6|\n",
            "+---+------+----------------+------+-----+-----+--------------------+\n",
            "|age|gender|            name|course| roll|marks|               email|\n",
            "| 28|Female| Hubert Oliveras|    DB|02984|   59|Annika Hoffman_Na...|\n",
            "| 29|Female|Toshiko Hillyard| Cloud|12899|   62|Margene Moores_Ma...|\n",
            "| 28|  Male|  Celeste Lollis|    PF|21267|   45|Jeannetta Golden_...|\n",
            "| 29|Female|    Elenore Choy|    DB|32877|   29|Billi Clore_Mitzi...|\n",
            "| 28|  Male|  Sheryll Towler|   DSA|41487|   41|Claude Panos_Judi...|\n",
            "| 28|  Male|  Margene Moores|   MVC|52771|   32|Toshiko Hillyard_...|\n",
            "| 28|  Male|     Neda Briski|   OOP|61973|   69|Alberta Freund_El...|\n",
            "| 28|Female|    Claude Panos| Cloud|72409|   85|Sheryll Towler_Al...|\n",
            "| 28|  Male|  Celeste Lollis|   MVC|81492|   64|Nicole Harwood_Cl...|\n",
            "+---+------+----------------+------+-----+-----+--------------------+\n",
            "only showing top 10 rows\n",
            "\n"
          ]
        }
      ]
    },
    {
      "cell_type": "code",
      "source": [
        "# this will show the data based on headers\n",
        "\n",
        "student_df = spark.read.option(\"header\", True).csv(\"StudentData.csv\")\n",
        "student_df.show()"
      ],
      "metadata": {
        "colab": {
          "base_uri": "https://localhost:8080/"
        },
        "id": "FWTPXAxEZP9X",
        "outputId": "534357d0-5204-4684-f309-a916998cfb91"
      },
      "execution_count": null,
      "outputs": [
        {
          "output_type": "stream",
          "name": "stdout",
          "text": [
            "+---+------+----------------+------+------+-----+--------------------+\n",
            "|age|gender|            name|course|  roll|marks|               email|\n",
            "+---+------+----------------+------+------+-----+--------------------+\n",
            "| 28|Female| Hubert Oliveras|    DB| 02984|   59|Annika Hoffman_Na...|\n",
            "| 29|Female|Toshiko Hillyard| Cloud| 12899|   62|Margene Moores_Ma...|\n",
            "| 28|  Male|  Celeste Lollis|    PF| 21267|   45|Jeannetta Golden_...|\n",
            "| 29|Female|    Elenore Choy|    DB| 32877|   29|Billi Clore_Mitzi...|\n",
            "| 28|  Male|  Sheryll Towler|   DSA| 41487|   41|Claude Panos_Judi...|\n",
            "| 28|  Male|  Margene Moores|   MVC| 52771|   32|Toshiko Hillyard_...|\n",
            "| 28|  Male|     Neda Briski|   OOP| 61973|   69|Alberta Freund_El...|\n",
            "| 28|Female|    Claude Panos| Cloud| 72409|   85|Sheryll Towler_Al...|\n",
            "| 28|  Male|  Celeste Lollis|   MVC| 81492|   64|Nicole Harwood_Cl...|\n",
            "| 29|  Male|  Cordie Harnois|   OOP| 92882|   51|Judie Chipps_Clem...|\n",
            "| 29|Female|       Kena Wild|   DSA|102285|   35|Dustin Feagins_Ma...|\n",
            "| 29|  Male| Ernest Rossbach|    DB|111449|   53|Maybell Duguay_Ab...|\n",
            "| 28|Female|  Latia Vanhoose|    DB|122502|   27|Latia Vanhoose_Mi...|\n",
            "| 29|Female|  Latia Vanhoose|   MVC|132110|   55|Eda Neathery_Nico...|\n",
            "| 29|  Male|     Neda Briski|    PF|141770|   42|Margene Moores_Mi...|\n",
            "| 29|Female|  Latia Vanhoose|    DB|152159|   27|Claude Panos_Sant...|\n",
            "| 29|  Male|  Loris Crossett|   MVC|161771|   36|Mitzi Seldon_Jenn...|\n",
            "| 29|  Male|  Annika Hoffman|   OOP|171660|   22|Taryn Brownlee_Mi...|\n",
            "| 29|  Male|   Santa Kerfien|    PF|182129|   56|Judie Chipps_Tary...|\n",
            "| 28|Female|Mickey Cortright|    DB|192537|   62|Ernest Rossbach_M...|\n",
            "+---+------+----------------+------+------+-----+--------------------+\n",
            "only showing top 20 rows\n",
            "\n"
          ]
        }
      ]
    },
    {
      "cell_type": "code",
      "source": [
        "student_df.printSchema() \n",
        "# will print the Schema of DF"
      ],
      "metadata": {
        "colab": {
          "base_uri": "https://localhost:8080/"
        },
        "id": "NR4fM-lgZvHT",
        "outputId": "1d69ec04-87c2-4f02-c810-31193a0a22e7"
      },
      "execution_count": null,
      "outputs": [
        {
          "output_type": "stream",
          "name": "stdout",
          "text": [
            "root\n",
            " |-- age: string (nullable = true)\n",
            " |-- gender: string (nullable = true)\n",
            " |-- name: string (nullable = true)\n",
            " |-- course: string (nullable = true)\n",
            " |-- roll: string (nullable = true)\n",
            " |-- marks: string (nullable = true)\n",
            " |-- email: string (nullable = true)\n",
            "\n"
          ]
        }
      ]
    },
    {
      "cell_type": "code",
      "source": [
        "student_df1 = spark.read.options(header=True, inferSchema=True).csv('./StudentData.csv')"
      ],
      "metadata": {
        "id": "k4spBUof0_25"
      },
      "execution_count": null,
      "outputs": []
    },
    {
      "cell_type": "code",
      "source": [
        "student_df1.printSchema() \n",
        "# this is power of spark it automatically determine the type of fields"
      ],
      "metadata": {
        "colab": {
          "base_uri": "https://localhost:8080/"
        },
        "id": "58TPbMkc2HTq",
        "outputId": "32a25d03-d20b-4ca7-9655-55d6a98d93c7"
      },
      "execution_count": null,
      "outputs": [
        {
          "output_type": "stream",
          "name": "stdout",
          "text": [
            "root\n",
            " |-- age: integer (nullable = true)\n",
            " |-- gender: string (nullable = true)\n",
            " |-- name: string (nullable = true)\n",
            " |-- course: string (nullable = true)\n",
            " |-- roll: integer (nullable = true)\n",
            " |-- marks: integer (nullable = true)\n",
            " |-- email: string (nullable = true)\n",
            "\n"
          ]
        }
      ]
    },
    {
      "cell_type": "code",
      "source": [
        "# provide our own schema\n",
        "# first create schema\n",
        "from pyspark.sql.types import StructType, StructField, StringType, IntegerType\n",
        "\n",
        "schema = StructType([\n",
        "                     StructField('age', IntegerType(), True),\n",
        "                     StructField('gender', StringType(), True),\n",
        "                     StructField('name', StringType(), True),\n",
        "                     StructField('course', StringType(), True),\n",
        "                     StructField('roll', StringType(), True),\n",
        "                     StructField('marks', IntegerType(), True),\n",
        "                     StructField('email', StringType(), True),\n",
        "])"
      ],
      "metadata": {
        "id": "oDdR3jZW2KcG"
      },
      "execution_count": null,
      "outputs": []
    },
    {
      "cell_type": "code",
      "source": [
        "student_df_ownSchema = spark.read.options(header=True, delimeter=',').schema(schema).csv('./StudentData.csv')\n",
        "student_df_ownSchema.printSchema()"
      ],
      "metadata": {
        "colab": {
          "base_uri": "https://localhost:8080/"
        },
        "id": "eb-M5aLb5rnp",
        "outputId": "15efc42b-afe5-4f7f-d010-87124ce60642"
      },
      "execution_count": null,
      "outputs": [
        {
          "output_type": "stream",
          "name": "stdout",
          "text": [
            "root\n",
            " |-- age: integer (nullable = true)\n",
            " |-- gender: string (nullable = true)\n",
            " |-- name: string (nullable = true)\n",
            " |-- course: string (nullable = true)\n",
            " |-- roll: string (nullable = true)\n",
            " |-- marks: integer (nullable = true)\n",
            " |-- email: string (nullable = true)\n",
            "\n"
          ]
        }
      ]
    },
    {
      "cell_type": "markdown",
      "source": [
        "### RDD to DF"
      ],
      "metadata": {
        "id": "etXWBo-29Vfj"
      }
    },
    {
      "cell_type": "code",
      "source": [
        "student_rdd = sc.textFile(\"./StudentData.csv\")\n",
        "header = student_rdd.first()\n",
        "\n",
        "student_rdd.collect()[:10]\n",
        "\n",
        "\n",
        "student_rdd_new = student_rdd.map(lambda x: x.split(\",\"))\n",
        "# student_rdd_new.collect()[:10]"
      ],
      "metadata": {
        "id": "WQbxvkPi9bu1"
      },
      "execution_count": null,
      "outputs": []
    },
    {
      "cell_type": "code",
      "source": [
        "student_df = student_rdd_new.toDF()\n",
        "student_df.show(10)\n",
        "# here we can convert it but it has the header part which is string so it would be able to identify them correctly.\n",
        "# Need to remove the header first \n",
        "\n",
        "student_rdd = student_rdd.filter(lambda x: x!=header)\n",
        "student_rdd_new = student_rdd.map(lambda x: x.split(\",\"))\n",
        "\n",
        "\n",
        "student_df = student_rdd_new.toDF(header.split(\",\")) # passing headers in the parameter\n",
        "student_df.show(10)"
      ],
      "metadata": {
        "colab": {
          "base_uri": "https://localhost:8080/"
        },
        "id": "pNpeNZV497su",
        "outputId": "2a846cbd-af5d-4780-bccf-0ad0055beb36"
      },
      "execution_count": null,
      "outputs": [
        {
          "output_type": "stream",
          "name": "stdout",
          "text": [
            "+---+------+----------------+-----+-----+---+--------------------+\n",
            "| _1|    _2|              _3|   _4|   _5| _6|                  _7|\n",
            "+---+------+----------------+-----+-----+---+--------------------+\n",
            "| 28|Female| Hubert Oliveras|   DB|02984| 59|Annika Hoffman_Na...|\n",
            "| 29|Female|Toshiko Hillyard|Cloud|12899| 62|Margene Moores_Ma...|\n",
            "| 28|  Male|  Celeste Lollis|   PF|21267| 45|Jeannetta Golden_...|\n",
            "| 29|Female|    Elenore Choy|   DB|32877| 29|Billi Clore_Mitzi...|\n",
            "| 28|  Male|  Sheryll Towler|  DSA|41487| 41|Claude Panos_Judi...|\n",
            "| 28|  Male|  Margene Moores|  MVC|52771| 32|Toshiko Hillyard_...|\n",
            "| 28|  Male|     Neda Briski|  OOP|61973| 69|Alberta Freund_El...|\n",
            "| 28|Female|    Claude Panos|Cloud|72409| 85|Sheryll Towler_Al...|\n",
            "| 28|  Male|  Celeste Lollis|  MVC|81492| 64|Nicole Harwood_Cl...|\n",
            "| 29|  Male|  Cordie Harnois|  OOP|92882| 51|Judie Chipps_Clem...|\n",
            "+---+------+----------------+-----+-----+---+--------------------+\n",
            "only showing top 10 rows\n",
            "\n",
            "+---+------+----------------+------+-----+-----+--------------------+\n",
            "|age|gender|            name|course| roll|marks|               email|\n",
            "+---+------+----------------+------+-----+-----+--------------------+\n",
            "| 28|Female| Hubert Oliveras|    DB|02984|   59|Annika Hoffman_Na...|\n",
            "| 29|Female|Toshiko Hillyard| Cloud|12899|   62|Margene Moores_Ma...|\n",
            "| 28|  Male|  Celeste Lollis|    PF|21267|   45|Jeannetta Golden_...|\n",
            "| 29|Female|    Elenore Choy|    DB|32877|   29|Billi Clore_Mitzi...|\n",
            "| 28|  Male|  Sheryll Towler|   DSA|41487|   41|Claude Panos_Judi...|\n",
            "| 28|  Male|  Margene Moores|   MVC|52771|   32|Toshiko Hillyard_...|\n",
            "| 28|  Male|     Neda Briski|   OOP|61973|   69|Alberta Freund_El...|\n",
            "| 28|Female|    Claude Panos| Cloud|72409|   85|Sheryll Towler_Al...|\n",
            "| 28|  Male|  Celeste Lollis|   MVC|81492|   64|Nicole Harwood_Cl...|\n",
            "| 29|  Male|  Cordie Harnois|   OOP|92882|   51|Judie Chipps_Clem...|\n",
            "+---+------+----------------+------+-----+-----+--------------------+\n",
            "only showing top 10 rows\n",
            "\n"
          ]
        }
      ]
    },
    {
      "cell_type": "code",
      "source": [
        "student_df.printSchema()"
      ],
      "metadata": {
        "colab": {
          "base_uri": "https://localhost:8080/"
        },
        "id": "e8yQ2NOG9-uk",
        "outputId": "6a32e1ee-fbad-46ef-8aae-0308ca799d08"
      },
      "execution_count": null,
      "outputs": [
        {
          "output_type": "stream",
          "name": "stdout",
          "text": [
            "root\n",
            " |-- age: string (nullable = true)\n",
            " |-- gender: string (nullable = true)\n",
            " |-- name: string (nullable = true)\n",
            " |-- course: string (nullable = true)\n",
            " |-- roll: string (nullable = true)\n",
            " |-- marks: string (nullable = true)\n",
            " |-- email: string (nullable = true)\n",
            "\n"
          ]
        }
      ]
    },
    {
      "cell_type": "code",
      "source": [
        "# using createDataFrame() to pass own schema\n",
        "df_rdd=  spark.createDataFrame(student_rdd_new, schema=schema)"
      ],
      "metadata": {
        "id": "MHmqZ9Jj-8ke"
      },
      "execution_count": null,
      "outputs": []
    },
    {
      "cell_type": "code",
      "source": [
        "df_rdd.printSchema()\n",
        "# but df_rdd.show() will throw error values are in string"
      ],
      "metadata": {
        "colab": {
          "base_uri": "https://localhost:8080/"
        },
        "id": "JBGjaM2RB3fa",
        "outputId": "db657bc9-8e51-42bc-de4b-1dd6a651bc1d"
      },
      "execution_count": null,
      "outputs": [
        {
          "output_type": "stream",
          "name": "stdout",
          "text": [
            "root\n",
            " |-- age: integer (nullable = true)\n",
            " |-- gender: string (nullable = true)\n",
            " |-- name: string (nullable = true)\n",
            " |-- course: string (nullable = true)\n",
            " |-- roll: string (nullable = true)\n",
            " |-- marks: integer (nullable = true)\n",
            " |-- email: string (nullable = true)\n",
            "\n"
          ]
        }
      ]
    },
    {
      "cell_type": "code",
      "source": [
        "student_rdd_new.collect()[:2]"
      ],
      "metadata": {
        "colab": {
          "base_uri": "https://localhost:8080/"
        },
        "id": "NFlJQiyCHEqo",
        "outputId": "45064a9a-36da-486d-c101-32e1f648c3f5"
      },
      "execution_count": null,
      "outputs": [
        {
          "output_type": "execute_result",
          "data": {
            "text/plain": [
              "[['28',\n",
              "  'Female',\n",
              "  'Hubert Oliveras',\n",
              "  'DB',\n",
              "  '02984',\n",
              "  '59',\n",
              "  'Annika Hoffman_Naoma Fritts@OOP.com'],\n",
              " ['29',\n",
              "  'Female',\n",
              "  'Toshiko Hillyard',\n",
              "  'Cloud',\n",
              "  '12899',\n",
              "  '62',\n",
              "  'Margene Moores_Marylee Capasso@DB.com']]"
            ]
          },
          "metadata": {},
          "execution_count": 46
        }
      ]
    },
    {
      "cell_type": "code",
      "source": [
        "student_rdd_new.map(lambda x: [int(x[0]),x[1],x[2],x[3],x[4],int(x[5]),x[6] ]).collect()[:10]"
      ],
      "metadata": {
        "id": "xYPCltDsH0KI"
      },
      "execution_count": null,
      "outputs": []
    },
    {
      "cell_type": "code",
      "source": [
        "# converting the values of RDD to integer then pass it as RDD alone with schema\n",
        "df_rdd1 = spark.createDataFrame(student_rdd_new.map(lambda x: [int(x[0]),x[1],x[2],x[3],x[4],int(x[5]),x[6] ]), schema)"
      ],
      "metadata": {
        "id": "9YJlnFUNDMnj"
      },
      "execution_count": null,
      "outputs": []
    },
    {
      "cell_type": "code",
      "source": [
        "df_rdd1.printSchema()"
      ],
      "metadata": {
        "colab": {
          "base_uri": "https://localhost:8080/"
        },
        "id": "CxGL4Wc6Hhn0",
        "outputId": "1384a5de-81a3-4b98-e962-a901fceca938"
      },
      "execution_count": null,
      "outputs": [
        {
          "output_type": "stream",
          "name": "stdout",
          "text": [
            "root\n",
            " |-- age: integer (nullable = true)\n",
            " |-- gender: string (nullable = true)\n",
            " |-- name: string (nullable = true)\n",
            " |-- course: string (nullable = true)\n",
            " |-- roll: string (nullable = true)\n",
            " |-- marks: integer (nullable = true)\n",
            " |-- email: string (nullable = true)\n",
            "\n"
          ]
        }
      ]
    },
    {
      "cell_type": "code",
      "source": [
        "df_rdd1.show(10) # now it will work as we converted the values to int"
      ],
      "metadata": {
        "colab": {
          "base_uri": "https://localhost:8080/"
        },
        "id": "CXyAlOi8HkxT",
        "outputId": "6e20fdd1-d59c-40dc-8a6b-6fd303350fe8"
      },
      "execution_count": null,
      "outputs": [
        {
          "output_type": "stream",
          "name": "stdout",
          "text": [
            "+---+------+----------------+------+-----+-----+--------------------+\n",
            "|age|gender|            name|course| roll|marks|               email|\n",
            "+---+------+----------------+------+-----+-----+--------------------+\n",
            "| 28|Female| Hubert Oliveras|    DB|02984|   59|Annika Hoffman_Na...|\n",
            "| 29|Female|Toshiko Hillyard| Cloud|12899|   62|Margene Moores_Ma...|\n",
            "| 28|  Male|  Celeste Lollis|    PF|21267|   45|Jeannetta Golden_...|\n",
            "| 29|Female|    Elenore Choy|    DB|32877|   29|Billi Clore_Mitzi...|\n",
            "| 28|  Male|  Sheryll Towler|   DSA|41487|   41|Claude Panos_Judi...|\n",
            "| 28|  Male|  Margene Moores|   MVC|52771|   32|Toshiko Hillyard_...|\n",
            "| 28|  Male|     Neda Briski|   OOP|61973|   69|Alberta Freund_El...|\n",
            "| 28|Female|    Claude Panos| Cloud|72409|   85|Sheryll Towler_Al...|\n",
            "| 28|  Male|  Celeste Lollis|   MVC|81492|   64|Nicole Harwood_Cl...|\n",
            "| 29|  Male|  Cordie Harnois|   OOP|92882|   51|Judie Chipps_Clem...|\n",
            "+---+------+----------------+------+-----+-----+--------------------+\n",
            "only showing top 10 rows\n",
            "\n"
          ]
        }
      ]
    },
    {
      "cell_type": "markdown",
      "source": [
        "### DF Select Columns"
      ],
      "metadata": {
        "id": "RuSlwMMR5yF-"
      }
    },
    {
      "cell_type": "code",
      "source": [
        "student_df1.printSchema()"
      ],
      "metadata": {
        "colab": {
          "base_uri": "https://localhost:8080/"
        },
        "id": "5lbkyZvy55Cc",
        "outputId": "82734177-3fa4-4c38-9a18-db2737702902"
      },
      "execution_count": null,
      "outputs": [
        {
          "output_type": "stream",
          "name": "stdout",
          "text": [
            "root\n",
            " |-- age: integer (nullable = true)\n",
            " |-- gender: string (nullable = true)\n",
            " |-- name: string (nullable = true)\n",
            " |-- course: string (nullable = true)\n",
            " |-- roll: integer (nullable = true)\n",
            " |-- marks: integer (nullable = true)\n",
            " |-- email: string (nullable = true)\n",
            "\n"
          ]
        }
      ]
    },
    {
      "cell_type": "code",
      "source": [
        "student_df1.show(10)"
      ],
      "metadata": {
        "colab": {
          "base_uri": "https://localhost:8080/"
        },
        "id": "EUmEhIRW6Bzh",
        "outputId": "247a9fc8-e9c0-4dea-c492-438a88daa377"
      },
      "execution_count": null,
      "outputs": [
        {
          "output_type": "stream",
          "name": "stdout",
          "text": [
            "+---+------+----------------+------+-----+-----+--------------------+\n",
            "|age|gender|            name|course| roll|marks|               email|\n",
            "+---+------+----------------+------+-----+-----+--------------------+\n",
            "| 28|Female| Hubert Oliveras|    DB| 2984|   59|Annika Hoffman_Na...|\n",
            "| 29|Female|Toshiko Hillyard| Cloud|12899|   62|Margene Moores_Ma...|\n",
            "| 28|  Male|  Celeste Lollis|    PF|21267|   45|Jeannetta Golden_...|\n",
            "| 29|Female|    Elenore Choy|    DB|32877|   29|Billi Clore_Mitzi...|\n",
            "| 28|  Male|  Sheryll Towler|   DSA|41487|   41|Claude Panos_Judi...|\n",
            "| 28|  Male|  Margene Moores|   MVC|52771|   32|Toshiko Hillyard_...|\n",
            "| 28|  Male|     Neda Briski|   OOP|61973|   69|Alberta Freund_El...|\n",
            "| 28|Female|    Claude Panos| Cloud|72409|   85|Sheryll Towler_Al...|\n",
            "| 28|  Male|  Celeste Lollis|   MVC|81492|   64|Nicole Harwood_Cl...|\n",
            "| 29|  Male|  Cordie Harnois|   OOP|92882|   51|Judie Chipps_Clem...|\n",
            "+---+------+----------------+------+-----+-----+--------------------+\n",
            "only showing top 10 rows\n",
            "\n"
          ]
        }
      ]
    },
    {
      "cell_type": "code",
      "source": [
        "student_df1.select(\"age\", \"gender\").show(3)\n",
        "\n",
        "student_df1.select(student_df1.age).show(3)\n"
      ],
      "metadata": {
        "colab": {
          "base_uri": "https://localhost:8080/"
        },
        "id": "k01Bdahk6KVg",
        "outputId": "72e951a2-5d9a-4bad-be88-05fa484f9447"
      },
      "execution_count": null,
      "outputs": [
        {
          "output_type": "stream",
          "name": "stdout",
          "text": [
            "+---+------+\n",
            "|age|gender|\n",
            "+---+------+\n",
            "| 28|Female|\n",
            "| 29|Female|\n",
            "| 28|  Male|\n",
            "+---+------+\n",
            "only showing top 3 rows\n",
            "\n",
            "+---+\n",
            "|age|\n",
            "+---+\n",
            "| 28|\n",
            "| 29|\n",
            "| 28|\n",
            "+---+\n",
            "only showing top 3 rows\n",
            "\n"
          ]
        }
      ]
    },
    {
      "cell_type": "code",
      "source": [
        "print(student_df1.columns) # list of columns\n",
        "\n",
        "student_df1.select(student_df1.columns).show(3)\n",
        "\n",
        "# can also do the slicing over column list\n",
        "student_df1.select(student_df1.columns[:3]).show(3) # will only return the first 3 column \n",
        "\n",
        "# to get all the columns\n",
        "student_df1.show(3)\n",
        "student_df1.select(\"*\").show(3)"
      ],
      "metadata": {
        "colab": {
          "base_uri": "https://localhost:8080/"
        },
        "id": "LEmewr4p6Pxp",
        "outputId": "a22eca77-850f-4095-8e99-97eb86abce0f"
      },
      "execution_count": null,
      "outputs": [
        {
          "output_type": "stream",
          "name": "stdout",
          "text": [
            "['age', 'gender', 'name', 'course', 'roll', 'marks', 'email']\n",
            "+---+------+----------------+------+-----+-----+--------------------+\n",
            "|age|gender|            name|course| roll|marks|               email|\n",
            "+---+------+----------------+------+-----+-----+--------------------+\n",
            "| 28|Female| Hubert Oliveras|    DB| 2984|   59|Annika Hoffman_Na...|\n",
            "| 29|Female|Toshiko Hillyard| Cloud|12899|   62|Margene Moores_Ma...|\n",
            "| 28|  Male|  Celeste Lollis|    PF|21267|   45|Jeannetta Golden_...|\n",
            "+---+------+----------------+------+-----+-----+--------------------+\n",
            "only showing top 3 rows\n",
            "\n",
            "+---+------+----------------+\n",
            "|age|gender|            name|\n",
            "+---+------+----------------+\n",
            "| 28|Female| Hubert Oliveras|\n",
            "| 29|Female|Toshiko Hillyard|\n",
            "| 28|  Male|  Celeste Lollis|\n",
            "+---+------+----------------+\n",
            "only showing top 3 rows\n",
            "\n",
            "+---+------+----------------+------+-----+-----+--------------------+\n",
            "|age|gender|            name|course| roll|marks|               email|\n",
            "+---+------+----------------+------+-----+-----+--------------------+\n",
            "| 28|Female| Hubert Oliveras|    DB| 2984|   59|Annika Hoffman_Na...|\n",
            "| 29|Female|Toshiko Hillyard| Cloud|12899|   62|Margene Moores_Ma...|\n",
            "| 28|  Male|  Celeste Lollis|    PF|21267|   45|Jeannetta Golden_...|\n",
            "+---+------+----------------+------+-----+-----+--------------------+\n",
            "only showing top 3 rows\n",
            "\n",
            "+---+------+----------------+------+-----+-----+--------------------+\n",
            "|age|gender|            name|course| roll|marks|               email|\n",
            "+---+------+----------------+------+-----+-----+--------------------+\n",
            "| 28|Female| Hubert Oliveras|    DB| 2984|   59|Annika Hoffman_Na...|\n",
            "| 29|Female|Toshiko Hillyard| Cloud|12899|   62|Margene Moores_Ma...|\n",
            "| 28|  Male|  Celeste Lollis|    PF|21267|   45|Jeannetta Golden_...|\n",
            "+---+------+----------------+------+-----+-----+--------------------+\n",
            "only showing top 3 rows\n",
            "\n"
          ]
        }
      ]
    },
    {
      "cell_type": "code",
      "source": [
        "#  withColumn -- to modify the types of column in dataframe\n",
        "\n",
        "student_df1.printSchema() # let's convert roll to string"
      ],
      "metadata": {
        "colab": {
          "base_uri": "https://localhost:8080/"
        },
        "id": "ZMLUhl1Y7AMo",
        "outputId": "d4374803-ad6d-4c26-c7a7-44383e61bea3"
      },
      "execution_count": null,
      "outputs": [
        {
          "output_type": "stream",
          "name": "stdout",
          "text": [
            "root\n",
            " |-- age: integer (nullable = true)\n",
            " |-- gender: string (nullable = true)\n",
            " |-- name: string (nullable = true)\n",
            " |-- course: string (nullable = true)\n",
            " |-- roll: integer (nullable = true)\n",
            " |-- marks: integer (nullable = true)\n",
            " |-- email: string (nullable = true)\n",
            "\n"
          ]
        }
      ]
    },
    {
      "cell_type": "code",
      "source": [
        "# withColmn allow to operate on the existing column into the df, we can add new col or even replace the existing one\n",
        "student_df1.withColumn('roll_string', col=student_df1.roll.cast('string')).show(4)\n",
        "student_df1.withColumn('roll_string', col=student_df1.roll.cast('string')).printSchema() # return the new column with String type\n",
        "\n"
      ],
      "metadata": {
        "colab": {
          "base_uri": "https://localhost:8080/"
        },
        "id": "tVLm_5Fr9Qik",
        "outputId": "fc874ed6-6b4b-4c1c-83a3-611cbf810147"
      },
      "execution_count": null,
      "outputs": [
        {
          "output_type": "stream",
          "name": "stdout",
          "text": [
            "+---+------+----------------+------+-----+-----+--------------------+-----------+\n",
            "|age|gender|            name|course| roll|marks|               email|roll_string|\n",
            "+---+------+----------------+------+-----+-----+--------------------+-----------+\n",
            "| 28|Female| Hubert Oliveras|    DB| 2984|   59|Annika Hoffman_Na...|       2984|\n",
            "| 29|Female|Toshiko Hillyard| Cloud|12899|   62|Margene Moores_Ma...|      12899|\n",
            "| 28|  Male|  Celeste Lollis|    PF|21267|   45|Jeannetta Golden_...|      21267|\n",
            "| 29|Female|    Elenore Choy|    DB|32877|   29|Billi Clore_Mitzi...|      32877|\n",
            "+---+------+----------------+------+-----+-----+--------------------+-----------+\n",
            "only showing top 4 rows\n",
            "\n",
            "root\n",
            " |-- age: integer (nullable = true)\n",
            " |-- gender: string (nullable = true)\n",
            " |-- name: string (nullable = true)\n",
            " |-- course: string (nullable = true)\n",
            " |-- roll: integer (nullable = true)\n",
            " |-- marks: integer (nullable = true)\n",
            " |-- email: string (nullable = true)\n",
            " |-- roll_string: string (nullable = true)\n",
            "\n"
          ]
        }
      ]
    },
    {
      "cell_type": "code",
      "source": [
        "#  to manipulate the df we need to use withColumn\n",
        "# example add 20 in the marks column\n",
        "student_df1.withColumn('updatedMarks', col=student_df1.marks + 20).show(10)"
      ],
      "metadata": {
        "colab": {
          "base_uri": "https://localhost:8080/"
        },
        "id": "bhHOi85j91Aw",
        "outputId": "35eafe9c-96df-457b-f6a6-4940a213d0df"
      },
      "execution_count": null,
      "outputs": [
        {
          "output_type": "stream",
          "name": "stdout",
          "text": [
            "+---+------+----------------+------+-----+-----+--------------------+------------+\n",
            "|age|gender|            name|course| roll|marks|               email|updatedMarks|\n",
            "+---+------+----------------+------+-----+-----+--------------------+------------+\n",
            "| 28|Female| Hubert Oliveras|    DB| 2984|   59|Annika Hoffman_Na...|          79|\n",
            "| 29|Female|Toshiko Hillyard| Cloud|12899|   62|Margene Moores_Ma...|          82|\n",
            "| 28|  Male|  Celeste Lollis|    PF|21267|   45|Jeannetta Golden_...|          65|\n",
            "| 29|Female|    Elenore Choy|    DB|32877|   29|Billi Clore_Mitzi...|          49|\n",
            "| 28|  Male|  Sheryll Towler|   DSA|41487|   41|Claude Panos_Judi...|          61|\n",
            "| 28|  Male|  Margene Moores|   MVC|52771|   32|Toshiko Hillyard_...|          52|\n",
            "| 28|  Male|     Neda Briski|   OOP|61973|   69|Alberta Freund_El...|          89|\n",
            "| 28|Female|    Claude Panos| Cloud|72409|   85|Sheryll Towler_Al...|         105|\n",
            "| 28|  Male|  Celeste Lollis|   MVC|81492|   64|Nicole Harwood_Cl...|          84|\n",
            "| 29|  Male|  Cordie Harnois|   OOP|92882|   51|Judie Chipps_Clem...|          71|\n",
            "+---+------+----------------+------+-----+-----+--------------------+------------+\n",
            "only showing top 10 rows\n",
            "\n"
          ]
        }
      ]
    },
    {
      "cell_type": "code",
      "source": [
        "#  to add literal into a new column\n",
        "\n",
        "from pyspark.sql.functions import lit\n",
        "student_df1.withColumn(\"country\", lit(\"UAS\")).show(10)"
      ],
      "metadata": {
        "colab": {
          "base_uri": "https://localhost:8080/"
        },
        "id": "pU02OcbnACrj",
        "outputId": "641dfeae-877a-4da7-e2f6-938cc359e348"
      },
      "execution_count": null,
      "outputs": [
        {
          "output_type": "stream",
          "name": "stdout",
          "text": [
            "+---+------+----------------+------+-----+-----+--------------------+-------+\n",
            "|age|gender|            name|course| roll|marks|               email|country|\n",
            "+---+------+----------------+------+-----+-----+--------------------+-------+\n",
            "| 28|Female| Hubert Oliveras|    DB| 2984|   59|Annika Hoffman_Na...|    UAS|\n",
            "| 29|Female|Toshiko Hillyard| Cloud|12899|   62|Margene Moores_Ma...|    UAS|\n",
            "| 28|  Male|  Celeste Lollis|    PF|21267|   45|Jeannetta Golden_...|    UAS|\n",
            "| 29|Female|    Elenore Choy|    DB|32877|   29|Billi Clore_Mitzi...|    UAS|\n",
            "| 28|  Male|  Sheryll Towler|   DSA|41487|   41|Claude Panos_Judi...|    UAS|\n",
            "| 28|  Male|  Margene Moores|   MVC|52771|   32|Toshiko Hillyard_...|    UAS|\n",
            "| 28|  Male|     Neda Briski|   OOP|61973|   69|Alberta Freund_El...|    UAS|\n",
            "| 28|Female|    Claude Panos| Cloud|72409|   85|Sheryll Towler_Al...|    UAS|\n",
            "| 28|  Male|  Celeste Lollis|   MVC|81492|   64|Nicole Harwood_Cl...|    UAS|\n",
            "| 29|  Male|  Cordie Harnois|   OOP|92882|   51|Judie Chipps_Clem...|    UAS|\n",
            "+---+------+----------------+------+-----+-----+--------------------+-------+\n",
            "only showing top 10 rows\n",
            "\n"
          ]
        }
      ]
    },
    {
      "cell_type": "code",
      "source": [
        "student_df1.select(student_df1.name.alias('full name')).show(10)"
      ],
      "metadata": {
        "colab": {
          "base_uri": "https://localhost:8080/"
        },
        "id": "9N3fOGRDCjc8",
        "outputId": "641780b6-2194-4261-9fb9-065544f01a01"
      },
      "execution_count": null,
      "outputs": [
        {
          "output_type": "stream",
          "name": "stdout",
          "text": [
            "+----------------+\n",
            "|       full name|\n",
            "+----------------+\n",
            "| Hubert Oliveras|\n",
            "|Toshiko Hillyard|\n",
            "|  Celeste Lollis|\n",
            "|    Elenore Choy|\n",
            "|  Sheryll Towler|\n",
            "|  Margene Moores|\n",
            "|     Neda Briski|\n",
            "|    Claude Panos|\n",
            "|  Celeste Lollis|\n",
            "|  Cordie Harnois|\n",
            "+----------------+\n",
            "only showing top 10 rows\n",
            "\n"
          ]
        }
      ]
    },
    {
      "cell_type": "code",
      "source": [
        "# filtering the DataFrame\n",
        "\n",
        "student_df1.filter((student_df1.course =='DSA') & (student_df1.marks >50) ).show(10)\n",
        "\n",
        "# to pass the multiple values using isin\n",
        "student_df1.filter((student_df1.course.isin(['DSA', 'Cloud']))).show(5)\n",
        "\n"
      ],
      "metadata": {
        "colab": {
          "base_uri": "https://localhost:8080/"
        },
        "id": "si4s_bi5GFVu",
        "outputId": "d0108277-ee13-4790-9c87-17ec2270b817"
      },
      "execution_count": null,
      "outputs": [
        {
          "output_type": "stream",
          "name": "stdout",
          "text": [
            "+---+------+--------------+------+------+-----+--------------------+\n",
            "|age|gender|          name|course|  roll|marks|               email|\n",
            "+---+------+--------------+------+------+-----+--------------------+\n",
            "| 28|Female|  Jc Andrepont|   DSA|232060|   58|Billi Clore_Abram...|\n",
            "| 29|Female|  Paris Hutton|   DSA|271472|   99|Sheryll Towler_Al...|\n",
            "| 28|Female|Dustin Feagins|   DSA|291984|   82|Abram Nagao_Kena ...|\n",
            "| 29|Female|  Paris Hutton|   DSA|492159|   60|Nicole Harwood_Ma...|\n",
            "| 29|  Male|Celeste Lollis|   DSA|562065|   85|Jc Andrepont_Mela...|\n",
            "| 29|  Male|Maybell Duguay|   DSA|592061|   83|Eda Neathery_Jenn...|\n",
            "| 28|Female|Celeste Lollis|   DSA|731879|   76|Hubert Oliveras_G...|\n",
            "| 28|  Male|Sheryll Towler|   DSA|831562|   59|Kena Wild_Gonzalo...|\n",
            "| 28|Female|Sheryll Towler|   DSA|871967|   64|Michelle Ruggiero...|\n",
            "| 28|  Male|Margene Moores|   DSA|892010|   93|Anna Santos_Naoma...|\n",
            "+---+------+--------------+------+------+-----+--------------------+\n",
            "only showing top 10 rows\n",
            "\n",
            "+---+------+----------------+------+------+-----+--------------------+\n",
            "|age|gender|            name|course|  roll|marks|               email|\n",
            "+---+------+----------------+------+------+-----+--------------------+\n",
            "| 29|Female|Toshiko Hillyard| Cloud| 12899|   62|Margene Moores_Ma...|\n",
            "| 28|  Male|  Sheryll Towler|   DSA| 41487|   41|Claude Panos_Judi...|\n",
            "| 28|Female|    Claude Panos| Cloud| 72409|   85|Sheryll Towler_Al...|\n",
            "| 29|Female|       Kena Wild|   DSA|102285|   35|Dustin Feagins_Ma...|\n",
            "| 28|Female|       Kena Wild| Cloud|221750|   60|Mitzi Seldon_Jenn...|\n",
            "+---+------+----------------+------+------+-----+--------------------+\n",
            "only showing top 5 rows\n",
            "\n"
          ]
        }
      ]
    },
    {
      "cell_type": "markdown",
      "source": [
        "### Quiz"
      ],
      "metadata": {
        "id": "Nvdnq50jNhZI"
      }
    },
    {
      "cell_type": "code",
      "source": [
        "student_df = spark.read.options(header=True, inferSchema=True).csv(\"./StudentData.csv\")\n",
        "student_df.printSchema()"
      ],
      "metadata": {
        "colab": {
          "base_uri": "https://localhost:8080/"
        },
        "id": "aSvWQhj6Nl3L",
        "outputId": "8c17d778-436d-4fb8-d948-d3aeb9e14720"
      },
      "execution_count": null,
      "outputs": [
        {
          "output_type": "stream",
          "name": "stdout",
          "text": [
            "root\n",
            " |-- age: integer (nullable = true)\n",
            " |-- gender: string (nullable = true)\n",
            " |-- name: string (nullable = true)\n",
            " |-- course: string (nullable = true)\n",
            " |-- roll: integer (nullable = true)\n",
            " |-- marks: integer (nullable = true)\n",
            " |-- email: string (nullable = true)\n",
            "\n"
          ]
        }
      ]
    },
    {
      "cell_type": "code",
      "source": [
        "# create a new Column for total marks and total marks be 120\n",
        "\n",
        "student_df = student_df.withColumn('TotalMarks', lit(120))\n",
        "student_df.show(10)"
      ],
      "metadata": {
        "colab": {
          "base_uri": "https://localhost:8080/"
        },
        "id": "3SO4k7NbN4Ew",
        "outputId": "11121b54-d81c-48cd-d85f-9d8fbe0869ba"
      },
      "execution_count": null,
      "outputs": [
        {
          "output_type": "stream",
          "name": "stdout",
          "text": [
            "+---+------+----------------+------+-----+-----+--------------------+----------+\n",
            "|age|gender|            name|course| roll|marks|               email|TotalMarks|\n",
            "+---+------+----------------+------+-----+-----+--------------------+----------+\n",
            "| 28|Female| Hubert Oliveras|    DB| 2984|   59|Annika Hoffman_Na...|       120|\n",
            "| 29|Female|Toshiko Hillyard| Cloud|12899|   62|Margene Moores_Ma...|       120|\n",
            "| 28|  Male|  Celeste Lollis|    PF|21267|   45|Jeannetta Golden_...|       120|\n",
            "| 29|Female|    Elenore Choy|    DB|32877|   29|Billi Clore_Mitzi...|       120|\n",
            "| 28|  Male|  Sheryll Towler|   DSA|41487|   41|Claude Panos_Judi...|       120|\n",
            "| 28|  Male|  Margene Moores|   MVC|52771|   32|Toshiko Hillyard_...|       120|\n",
            "| 28|  Male|     Neda Briski|   OOP|61973|   69|Alberta Freund_El...|       120|\n",
            "| 28|Female|    Claude Panos| Cloud|72409|   85|Sheryll Towler_Al...|       120|\n",
            "| 28|  Male|  Celeste Lollis|   MVC|81492|   64|Nicole Harwood_Cl...|       120|\n",
            "| 29|  Male|  Cordie Harnois|   OOP|92882|   51|Judie Chipps_Clem...|       120|\n",
            "+---+------+----------------+------+-----+-----+--------------------+----------+\n",
            "only showing top 10 rows\n",
            "\n"
          ]
        }
      ]
    },
    {
      "cell_type": "code",
      "source": [
        "#  to calculate the average\n",
        "\n",
        "from pyspark.sql.functions import round\n",
        "\n",
        "df = student_df.withColumn('average', (student_df.marks/ student_df.TotalMarks)*100 )\n",
        "student_df = df.withColumn('average', round(df.average,2))\n",
        "student_df.show(10)"
      ],
      "metadata": {
        "colab": {
          "base_uri": "https://localhost:8080/"
        },
        "id": "q1GamSBNOL2S",
        "outputId": "5edcdd83-54c8-4c7b-b784-c233564f0b68"
      },
      "execution_count": null,
      "outputs": [
        {
          "output_type": "stream",
          "name": "stdout",
          "text": [
            "+---+------+----------------+------+-----+-----+--------------------+----------+-------+\n",
            "|age|gender|            name|course| roll|marks|               email|TotalMarks|average|\n",
            "+---+------+----------------+------+-----+-----+--------------------+----------+-------+\n",
            "| 28|Female| Hubert Oliveras|    DB| 2984|   59|Annika Hoffman_Na...|       120|  49.17|\n",
            "| 29|Female|Toshiko Hillyard| Cloud|12899|   62|Margene Moores_Ma...|       120|  51.67|\n",
            "| 28|  Male|  Celeste Lollis|    PF|21267|   45|Jeannetta Golden_...|       120|   37.5|\n",
            "| 29|Female|    Elenore Choy|    DB|32877|   29|Billi Clore_Mitzi...|       120|  24.17|\n",
            "| 28|  Male|  Sheryll Towler|   DSA|41487|   41|Claude Panos_Judi...|       120|  34.17|\n",
            "| 28|  Male|  Margene Moores|   MVC|52771|   32|Toshiko Hillyard_...|       120|  26.67|\n",
            "| 28|  Male|     Neda Briski|   OOP|61973|   69|Alberta Freund_El...|       120|   57.5|\n",
            "| 28|Female|    Claude Panos| Cloud|72409|   85|Sheryll Towler_Al...|       120|  70.83|\n",
            "| 28|  Male|  Celeste Lollis|   MVC|81492|   64|Nicole Harwood_Cl...|       120|  53.33|\n",
            "| 29|  Male|  Cordie Harnois|   OOP|92882|   51|Judie Chipps_Clem...|       120|   42.5|\n",
            "+---+------+----------------+------+-----+-----+--------------------+----------+-------+\n",
            "only showing top 10 rows\n",
            "\n"
          ]
        }
      ]
    },
    {
      "cell_type": "code",
      "source": [
        "# filter marks > 80 in OOPs course\n",
        "student_df.filter((student_df.average > 80) & (student_df.course =='OOP') ).show(10)"
      ],
      "metadata": {
        "colab": {
          "base_uri": "https://localhost:8080/"
        },
        "id": "igwHF16YOrNl",
        "outputId": "0d057d1d-fbbd-435d-c67e-887a0c6146fc"
      },
      "execution_count": null,
      "outputs": [
        {
          "output_type": "stream",
          "name": "stdout",
          "text": [
            "+---+------+------------------+------+-------+-----+--------------------+----------+-------+\n",
            "|age|gender|              name|course|   roll|marks|               email|TotalMarks|average|\n",
            "+---+------+------------------+------+-------+-----+--------------------+----------+-------+\n",
            "| 28|  Male|    Jenna Montague|   OOP|3331161|   98|Leontine Phillips...|       120|  81.67|\n",
            "| 29|Female|Priscila Tavernier|   OOP|3902993|   99|Celeste Lollis_Bi...|       120|   82.5|\n",
            "| 28|Female|      Judie Chipps|   OOP|5451977|   99|Tamera Blakley_Mi...|       120|   82.5|\n",
            "| 29|  Male|    Margene Moores|   OOP|5621072|   97|Sheryll Towler_Ma...|       120|  80.83|\n",
            "| 29|  Male|      Jc Andrepont|   OOP|8022618|   97|Cordie Harnois_Ja...|       120|  80.83|\n",
            "| 28|  Male|    Loris Crossett|   OOP|8172914|   98|Paris Hutton_Pari...|       120|  81.67|\n",
            "| 28|  Male|    Loris Crossett|   OOP|9692316|   99|Judie Chipps_Mich...|       120|   82.5|\n",
            "+---+------+------------------+------+-------+-----+--------------------+----------+-------+\n",
            "\n"
          ]
        }
      ]
    },
    {
      "cell_type": "markdown",
      "source": [
        "### count, distinct, dropDuplicate"
      ],
      "metadata": {
        "id": "Wj7XPxypS8Vz"
      }
    },
    {
      "cell_type": "code",
      "source": [
        "# count\n",
        "student_df.filter(student_df.course.isin('DB', 'Cloud')).count() # this is simply counts based on filter"
      ],
      "metadata": {
        "colab": {
          "base_uri": "https://localhost:8080/"
        },
        "id": "tGm8WwUsTAOV",
        "outputId": "374f1e64-0ad0-4568-d1e4-67eba902ccb3"
      },
      "execution_count": null,
      "outputs": [
        {
          "output_type": "execute_result",
          "data": {
            "text/plain": [
              "349"
            ]
          },
          "metadata": {},
          "execution_count": 71
        }
      ]
    },
    {
      "cell_type": "code",
      "source": [
        "# distinct\n",
        "student_df.distinct().count()\n",
        "student_df.filter(student_df.course == 'DB').distinct().count()  \n",
        "student_df.filter(student_df.course == 'DB').count()\n",
        "# both the above two will output same as every row in DF is distinct\n",
        "\n",
        "student_df.select('gender', 'course' ).distinct().show()\n",
        "# show the distinct combination\n",
        "\n",
        "student_df.dropDuplicates(['gender', 'age']).show()\n",
        "# will extract the distinct records based on the passed fields, here it will specify the compelte dataset based on Gender and Age\n",
        "\n",
        "student_df.dropDuplicates(['age', 'gender', 'course']).count() \n",
        "# it will extract the distinct records based on age, gender, course\n",
        "\n",
        "student_df.select(student_df.age, student_df.gender, student_df.course).distinct().count()"
      ],
      "metadata": {
        "colab": {
          "base_uri": "https://localhost:8080/"
        },
        "id": "RXSYH9DKTLii",
        "outputId": "b32b712c-83ef-4f71-877f-dadf2bb7fef6"
      },
      "execution_count": null,
      "outputs": [
        {
          "output_type": "stream",
          "name": "stdout",
          "text": [
            "+------+------+\n",
            "|gender|course|\n",
            "+------+------+\n",
            "|Female| Cloud|\n",
            "|Female|   OOP|\n",
            "|  Male|    PF|\n",
            "|  Male|    DB|\n",
            "|  Male| Cloud|\n",
            "|  Male|   OOP|\n",
            "|Female|   DSA|\n",
            "|Female|    DB|\n",
            "|  Male|   DSA|\n",
            "|  Male|   MVC|\n",
            "|Female|   MVC|\n",
            "|Female|    PF|\n",
            "+------+------+\n",
            "\n",
            "+---+------+----------------+------+-----+-----+--------------------+----------+-------+\n",
            "|age|gender|            name|course| roll|marks|               email|TotalMarks|average|\n",
            "+---+------+----------------+------+-----+-----+--------------------+----------+-------+\n",
            "| 28|Female| Hubert Oliveras|    DB| 2984|   59|Annika Hoffman_Na...|       120|  49.17|\n",
            "| 29|Female|Toshiko Hillyard| Cloud|12899|   62|Margene Moores_Ma...|       120|  51.67|\n",
            "| 28|  Male|  Celeste Lollis|    PF|21267|   45|Jeannetta Golden_...|       120|   37.5|\n",
            "| 29|  Male|  Cordie Harnois|   OOP|92882|   51|Judie Chipps_Clem...|       120|   42.5|\n",
            "+---+------+----------------+------+-----+-----+--------------------+----------+-------+\n",
            "\n"
          ]
        },
        {
          "output_type": "execute_result",
          "data": {
            "text/plain": [
              "24"
            ]
          },
          "metadata": {},
          "execution_count": 84
        }
      ]
    },
    {
      "cell_type": "markdown",
      "source": [
        "### sort and order by"
      ],
      "metadata": {
        "id": "4dzVTHY8WkVy"
      }
    },
    {
      "cell_type": "code",
      "source": [
        "student_df.show(10)"
      ],
      "metadata": {
        "colab": {
          "base_uri": "https://localhost:8080/"
        },
        "id": "Si_O4mkUTdcM",
        "outputId": "60db263b-11ac-4b15-e56c-cbeb74f469d2"
      },
      "execution_count": null,
      "outputs": [
        {
          "output_type": "stream",
          "name": "stdout",
          "text": [
            "+---+------+----------------+------+-----+-----+--------------------+----------+-------+\n",
            "|age|gender|            name|course| roll|marks|               email|TotalMarks|average|\n",
            "+---+------+----------------+------+-----+-----+--------------------+----------+-------+\n",
            "| 28|Female| Hubert Oliveras|    DB| 2984|   59|Annika Hoffman_Na...|       120|  49.17|\n",
            "| 29|Female|Toshiko Hillyard| Cloud|12899|   62|Margene Moores_Ma...|       120|  51.67|\n",
            "| 28|  Male|  Celeste Lollis|    PF|21267|   45|Jeannetta Golden_...|       120|   37.5|\n",
            "| 29|Female|    Elenore Choy|    DB|32877|   29|Billi Clore_Mitzi...|       120|  24.17|\n",
            "| 28|  Male|  Sheryll Towler|   DSA|41487|   41|Claude Panos_Judi...|       120|  34.17|\n",
            "| 28|  Male|  Margene Moores|   MVC|52771|   32|Toshiko Hillyard_...|       120|  26.67|\n",
            "| 28|  Male|     Neda Briski|   OOP|61973|   69|Alberta Freund_El...|       120|   57.5|\n",
            "| 28|Female|    Claude Panos| Cloud|72409|   85|Sheryll Towler_Al...|       120|  70.83|\n",
            "| 28|  Male|  Celeste Lollis|   MVC|81492|   64|Nicole Harwood_Cl...|       120|  53.33|\n",
            "| 29|  Male|  Cordie Harnois|   OOP|92882|   51|Judie Chipps_Clem...|       120|   42.5|\n",
            "+---+------+----------------+------+-----+-----+--------------------+----------+-------+\n",
            "only showing top 10 rows\n",
            "\n"
          ]
        }
      ]
    },
    {
      "cell_type": "code",
      "source": [
        "student_df.sort(student_df.marks.asc(), student_df.age.desc()).show(10)"
      ],
      "metadata": {
        "colab": {
          "base_uri": "https://localhost:8080/"
        },
        "id": "Bcms6NezXU4r",
        "outputId": "f8d1e492-fac1-4d5a-bd41-e9ec1877c404"
      },
      "execution_count": null,
      "outputs": [
        {
          "output_type": "stream",
          "name": "stdout",
          "text": [
            "+---+------+-----------------+------+-------+-----+--------------------+----------+-------+\n",
            "|age|gender|             name|course|   roll|marks|               email|TotalMarks|average|\n",
            "+---+------+-----------------+------+-------+-----+--------------------+----------+-------+\n",
            "| 29|  Male|     Elenore Choy|    DB|3652057|   20|Jc Andrepont_Gonz...|       120|  16.67|\n",
            "| 29|Female|Michelle Ruggiero|    DB|9232210|   20|Donna Yerby_Latia...|       120|  16.67|\n",
            "| 29|  Male|   Jalisa Swenson|   OOP|4751515|   20|Annika Hoffman_Hu...|       120|  16.67|\n",
            "| 29|Female|  Gonzalo Ferebee|   DSA|5631172|   20|Jeannetta Golden_...|       120|  16.67|\n",
            "| 29|Female|   Tamera Blakley|   DSA|3911247|   20|Donna Yerby_Bonit...|       120|  16.67|\n",
            "| 29|  Male|Michelle Ruggiero|    PF|6001585|   20|Paris Hutton_Marg...|       120|  16.67|\n",
            "| 28|  Male|  Marylee Capasso|   DSA|2081560|   20|Sheryll Towler_Do...|       120|  16.67|\n",
            "| 28|Female|   Maybell Duguay| Cloud| 261439|   20|Nicole Harwood_Ju...|       120|  16.67|\n",
            "| 28|Female|     Jc Andrepont|    PF| 972733|   20|Eda Neathery_Eda ...|       120|  16.67|\n",
            "| 29|Female|  Gonzalo Ferebee|   OOP|2262603|   21|Bonita Higuera_Ch...|       120|   17.5|\n",
            "+---+------+-----------------+------+-------+-----+--------------------+----------+-------+\n",
            "only showing top 10 rows\n",
            "\n"
          ]
        }
      ]
    },
    {
      "cell_type": "code",
      "source": [
        "# Quiz\n",
        "office_df = spark.read.options(header=True, inferSchema=True).csv(\"./OfficeData.csv\")\n",
        "office_df.printSchema()"
      ],
      "metadata": {
        "colab": {
          "base_uri": "https://localhost:8080/"
        },
        "id": "VaayVn6uXjIo",
        "outputId": "730b1b1b-f7c7-48f2-a0d3-fca13ef774fd"
      },
      "execution_count": null,
      "outputs": [
        {
          "output_type": "stream",
          "name": "stdout",
          "text": [
            "root\n",
            " |-- employee_name: string (nullable = true)\n",
            " |-- department: string (nullable = true)\n",
            " |-- state: string (nullable = true)\n",
            " |-- salary: integer (nullable = true)\n",
            " |-- age: integer (nullable = true)\n",
            " |-- bonus: integer (nullable = true)\n",
            "\n"
          ]
        }
      ]
    },
    {
      "cell_type": "code",
      "source": [
        "office_df.show(10)"
      ],
      "metadata": {
        "colab": {
          "base_uri": "https://localhost:8080/"
        },
        "id": "-DnY4gHSYFZH",
        "outputId": "da9137bd-5ee3-47ac-a391-17cb0338875b"
      },
      "execution_count": null,
      "outputs": [
        {
          "output_type": "stream",
          "name": "stdout",
          "text": [
            "+-------------+----------+-----+------+---+-----+\n",
            "|employee_name|department|state|salary|age|bonus|\n",
            "+-------------+----------+-----+------+---+-----+\n",
            "|        James|     Sales|   NY| 90000| 34|10000|\n",
            "|      Michael|     Sales|   NY| 86000| 56|20000|\n",
            "|       Robert|     Sales|   CA| 81000| 30|23000|\n",
            "|        Maria|   Finance|   CA| 90000| 24|23000|\n",
            "|        Raman|   Finance|   CA| 99000| 40|24000|\n",
            "|        Scott|   Finance|   NY| 83000| 36|19000|\n",
            "|          Jen|   Finance|   NY| 79000| 53|15000|\n",
            "|         Jeff| Marketing|   CA| 80000| 25|18000|\n",
            "|        Kumar| Marketing|   NY| 91000| 50|21000|\n",
            "+-------------+----------+-----+------+---+-----+\n",
            "\n"
          ]
        }
      ]
    },
    {
      "cell_type": "code",
      "source": [
        "office_df.sort(office_df.bonus.asc()).show()"
      ],
      "metadata": {
        "colab": {
          "base_uri": "https://localhost:8080/"
        },
        "id": "zVq_8u4iYNHf",
        "outputId": "64d1927c-d437-4c71-a67e-d9a3b0bfba60"
      },
      "execution_count": null,
      "outputs": [
        {
          "output_type": "stream",
          "name": "stdout",
          "text": [
            "+-------------+----------+-----+------+---+-----+\n",
            "|employee_name|department|state|salary|age|bonus|\n",
            "+-------------+----------+-----+------+---+-----+\n",
            "|        James|     Sales|   NY| 90000| 34|10000|\n",
            "|          Jen|   Finance|   NY| 79000| 53|15000|\n",
            "|         Jeff| Marketing|   CA| 80000| 25|18000|\n",
            "|        Scott|   Finance|   NY| 83000| 36|19000|\n",
            "|      Michael|     Sales|   NY| 86000| 56|20000|\n",
            "|        Kumar| Marketing|   NY| 91000| 50|21000|\n",
            "|       Robert|     Sales|   CA| 81000| 30|23000|\n",
            "|        Maria|   Finance|   CA| 90000| 24|23000|\n",
            "|        Raman|   Finance|   CA| 99000| 40|24000|\n",
            "+-------------+----------+-----+------+---+-----+\n",
            "\n"
          ]
        }
      ]
    },
    {
      "cell_type": "markdown",
      "source": [
        "### Grouping and Aggregation\n",
        " "
      ],
      "metadata": {
        "id": "sf7pJTiibjd5"
      }
    },
    {
      "cell_type": "code",
      "source": [
        "#Note grouping we must perform some aggregation\n",
        "\n",
        "# student_df.groupBy('age').show() # this will not work as no aggregation is performed\n",
        "\n",
        "student_df.groupBy('age').count().show() # aggregatio based on count\n",
        "student_df.groupBy('gender', 'age').count().show() # multi-level aggregation\n",
        "student_df.groupBy('course').sum('marks').show()\n",
        "student_df.groupBy('course').count().show()\n",
        "\n",
        "student_df.groupby('course').max('marks').show()\n"
      ],
      "metadata": {
        "colab": {
          "base_uri": "https://localhost:8080/"
        },
        "id": "C2PA2h4MYYke",
        "outputId": "a7ced707-a011-4fd7-e596-9b1d9436ae3c"
      },
      "execution_count": null,
      "outputs": [
        {
          "output_type": "stream",
          "name": "stdout",
          "text": [
            "+---+-----+\n",
            "|age|count|\n",
            "+---+-----+\n",
            "| 28|  494|\n",
            "| 29|  506|\n",
            "+---+-----+\n",
            "\n",
            "+------+---+-----+\n",
            "|gender|age|count|\n",
            "+------+---+-----+\n",
            "|Female| 29|  245|\n",
            "|Female| 28|  256|\n",
            "|  Male| 28|  238|\n",
            "|  Male| 29|  261|\n",
            "+------+---+-----+\n",
            "\n",
            "+------+----------+\n",
            "|course|sum(marks)|\n",
            "+------+----------+\n",
            "|    PF|      9933|\n",
            "|    DB|      9270|\n",
            "|   MVC|      9585|\n",
            "|   DSA|     10950|\n",
            "| Cloud|     11443|\n",
            "|   OOP|      8916|\n",
            "+------+----------+\n",
            "\n",
            "+------+-----+\n",
            "|course|count|\n",
            "+------+-----+\n",
            "|    PF|  166|\n",
            "|    DB|  157|\n",
            "|   MVC|  157|\n",
            "|   DSA|  176|\n",
            "| Cloud|  192|\n",
            "|   OOP|  152|\n",
            "+------+-----+\n",
            "\n",
            "+------+----------+\n",
            "|course|max(marks)|\n",
            "+------+----------+\n",
            "|    PF|        99|\n",
            "|    DB|        98|\n",
            "|   MVC|        99|\n",
            "|   DSA|        99|\n",
            "| Cloud|        99|\n",
            "|   OOP|        99|\n",
            "+------+----------+\n",
            "\n"
          ]
        }
      ]
    },
    {
      "cell_type": "code",
      "source": [
        "# about multi-level aggregation\n",
        "# upto now we only did one aggregation at a time, but what about if we want multiple aggregtion at once.\n",
        "# student_df.describe().show()\n",
        "\n",
        "student_df.sort('age').groupBy('age', 'gender').count().show()\n",
        "# what if we want count, min, max, sum, avg, mean etc at one go\n",
        "\n",
        "from pyspark.sql.functions import count, min, max, sum, avg, mean\n",
        "\n",
        "student_df.groupBy('age', 'gender').agg(count(\"*\").alias(\"Total Enrollment\"), sum('marks'), min('marks'), max('marks')).sort('age').show()\n",
        "\n",
        "\n"
      ],
      "metadata": {
        "colab": {
          "base_uri": "https://localhost:8080/"
        },
        "id": "kUSQSHa6bzPF",
        "outputId": "fdb7e93b-256b-4963-f798-fdf84a9e3932"
      },
      "execution_count": null,
      "outputs": [
        {
          "output_type": "stream",
          "name": "stdout",
          "text": [
            "+---+------+-----+\n",
            "|age|gender|count|\n",
            "+---+------+-----+\n",
            "| 28|Female|  256|\n",
            "| 29|  Male|  261|\n",
            "| 29|Female|  245|\n",
            "| 28|  Male|  238|\n",
            "+---+------+-----+\n",
            "\n",
            "+---+------+----------------+----------+----------+----------+\n",
            "|age|gender|Total Enrollment|sum(marks)|min(marks)|max(marks)|\n",
            "+---+------+----------------+----------+----------+----------+\n",
            "| 28|Female|             256|     15217|        20|        99|\n",
            "| 28|  Male|             238|     14664|        20|        99|\n",
            "| 29|  Male|             261|     15797|        20|        99|\n",
            "| 29|Female|             245|     14419|        20|        99|\n",
            "+---+------+----------------+----------+----------+----------+\n",
            "\n"
          ]
        }
      ]
    },
    {
      "cell_type": "code",
      "source": [
        "student_df = spark.read.options(header=True, inferSchema=True).csv(\"./StudentData.csv\")\n",
        "student_df.show(10)\n",
        "student_df.printSchema()"
      ],
      "metadata": {
        "id": "3QexuDY2eBUN",
        "colab": {
          "base_uri": "https://localhost:8080/"
        },
        "outputId": "1797f624-d930-4e70-a9dc-93d26cd0db2d"
      },
      "execution_count": 6,
      "outputs": [
        {
          "output_type": "stream",
          "name": "stdout",
          "text": [
            "+---+------+----------------+------+-----+-----+--------------------+\n",
            "|age|gender|            name|course| roll|marks|               email|\n",
            "+---+------+----------------+------+-----+-----+--------------------+\n",
            "| 28|Female| Hubert Oliveras|    DB| 2984|   59|Annika Hoffman_Na...|\n",
            "| 29|Female|Toshiko Hillyard| Cloud|12899|   62|Margene Moores_Ma...|\n",
            "| 28|  Male|  Celeste Lollis|    PF|21267|   45|Jeannetta Golden_...|\n",
            "| 29|Female|    Elenore Choy|    DB|32877|   29|Billi Clore_Mitzi...|\n",
            "| 28|  Male|  Sheryll Towler|   DSA|41487|   41|Claude Panos_Judi...|\n",
            "| 28|  Male|  Margene Moores|   MVC|52771|   32|Toshiko Hillyard_...|\n",
            "| 28|  Male|     Neda Briski|   OOP|61973|   69|Alberta Freund_El...|\n",
            "| 28|Female|    Claude Panos| Cloud|72409|   85|Sheryll Towler_Al...|\n",
            "| 28|  Male|  Celeste Lollis|   MVC|81492|   64|Nicole Harwood_Cl...|\n",
            "| 29|  Male|  Cordie Harnois|   OOP|92882|   51|Judie Chipps_Clem...|\n",
            "+---+------+----------------+------+-----+-----+--------------------+\n",
            "only showing top 10 rows\n",
            "\n",
            "root\n",
            " |-- age: integer (nullable = true)\n",
            " |-- gender: string (nullable = true)\n",
            " |-- name: string (nullable = true)\n",
            " |-- course: string (nullable = true)\n",
            " |-- roll: integer (nullable = true)\n",
            " |-- marks: integer (nullable = true)\n",
            " |-- email: string (nullable = true)\n",
            "\n"
          ]
        }
      ]
    },
    {
      "cell_type": "code",
      "source": [
        "from pyspark.sql.functions import count, sum, min, max, col\n",
        "\n",
        "# simple group-by aggregation\n",
        "student_df.groupby(\"course\").agg(count(\"*\")).show()\n",
        "\n",
        "# filter aggregation\n",
        "student_df.filter(student_df.marks > 80).groupBy(\"course\").agg(count(\"*\")).show()\n",
        "\n",
        "# filter aggregation then again filter\n",
        "#  on filter we need to specify the DF.columnName\n",
        "student_df.filter(col(\"marks\") > 80).groupBy('course').agg(count(\"*\").alias(\"total_count\")).filter(student_df.course ==\"DB\").show()\n",
        "\n",
        "# filter over count \n",
        "#  but the below one will thrrow the error as the main DF don't have any column as total_count\n",
        "# student_df.filter(col(\"marks\") > 80).groupBy('course').agg(count(\"*\").alias(\"total_count\")).filter(student_df.total_count > 20).show()\n",
        "\n",
        "# so we need to specify the context column name\n",
        "student_df.filter(col(\"marks\") > 80).groupBy(\"course\").agg(count(\"*\").alias(\"total_count\")).filter(col(\"total_count\") > 20 ).show()\n",
        "\n"
      ],
      "metadata": {
        "colab": {
          "base_uri": "https://localhost:8080/"
        },
        "id": "yyP-IKVU5Gge",
        "outputId": "a9afb13d-51de-42e9-9238-bc96738efd17"
      },
      "execution_count": 19,
      "outputs": [
        {
          "output_type": "stream",
          "name": "stdout",
          "text": [
            "+------+--------+\n",
            "|course|count(1)|\n",
            "+------+--------+\n",
            "|    PF|     166|\n",
            "|    DB|     157|\n",
            "|   MVC|     157|\n",
            "|   DSA|     176|\n",
            "| Cloud|     192|\n",
            "|   OOP|     152|\n",
            "+------+--------+\n",
            "\n",
            "+------+--------+\n",
            "|course|count(1)|\n",
            "+------+--------+\n",
            "|    PF|      41|\n",
            "|    DB|      27|\n",
            "|   MVC|      37|\n",
            "|   DSA|      52|\n",
            "| Cloud|      43|\n",
            "|   OOP|      37|\n",
            "+------+--------+\n",
            "\n",
            "+------+-----------+\n",
            "|course|total_count|\n",
            "+------+-----------+\n",
            "|    DB|         27|\n",
            "+------+-----------+\n",
            "\n",
            "+------+-----------+\n",
            "|course|total_count|\n",
            "+------+-----------+\n",
            "|    PF|         41|\n",
            "|    DB|         27|\n",
            "|   MVC|         37|\n",
            "|   DSA|         52|\n",
            "| Cloud|         43|\n",
            "|   OOP|         37|\n",
            "+------+-----------+\n",
            "\n"
          ]
        }
      ]
    },
    {
      "cell_type": "markdown",
      "source": [
        "## Quiz on Group By"
      ],
      "metadata": {
        "id": "3mHvvMxb8SrH"
      }
    },
    {
      "cell_type": "code",
      "source": [
        "student_df.printSchema()"
      ],
      "metadata": {
        "colab": {
          "base_uri": "https://localhost:8080/"
        },
        "id": "J4jme9Ub5esR",
        "outputId": "663a5d0d-9112-4cd2-c72d-e72facb7e086"
      },
      "execution_count": 20,
      "outputs": [
        {
          "output_type": "stream",
          "name": "stdout",
          "text": [
            "root\n",
            " |-- age: integer (nullable = true)\n",
            " |-- gender: string (nullable = true)\n",
            " |-- name: string (nullable = true)\n",
            " |-- course: string (nullable = true)\n",
            " |-- roll: integer (nullable = true)\n",
            " |-- marks: integer (nullable = true)\n",
            " |-- email: string (nullable = true)\n",
            "\n"
          ]
        }
      ]
    },
    {
      "cell_type": "code",
      "source": [
        "student_df.show(10)"
      ],
      "metadata": {
        "colab": {
          "base_uri": "https://localhost:8080/"
        },
        "id": "f16WUlTQ8aSt",
        "outputId": "2dd62d65-8c0f-4dfe-e36d-3e5fa2d129ff"
      },
      "execution_count": 22,
      "outputs": [
        {
          "output_type": "stream",
          "name": "stdout",
          "text": [
            "+---+------+----------------+------+-----+-----+--------------------+\n",
            "|age|gender|            name|course| roll|marks|               email|\n",
            "+---+------+----------------+------+-----+-----+--------------------+\n",
            "| 28|Female| Hubert Oliveras|    DB| 2984|   59|Annika Hoffman_Na...|\n",
            "| 29|Female|Toshiko Hillyard| Cloud|12899|   62|Margene Moores_Ma...|\n",
            "| 28|  Male|  Celeste Lollis|    PF|21267|   45|Jeannetta Golden_...|\n",
            "| 29|Female|    Elenore Choy|    DB|32877|   29|Billi Clore_Mitzi...|\n",
            "| 28|  Male|  Sheryll Towler|   DSA|41487|   41|Claude Panos_Judi...|\n",
            "| 28|  Male|  Margene Moores|   MVC|52771|   32|Toshiko Hillyard_...|\n",
            "| 28|  Male|     Neda Briski|   OOP|61973|   69|Alberta Freund_El...|\n",
            "| 28|Female|    Claude Panos| Cloud|72409|   85|Sheryll Towler_Al...|\n",
            "| 28|  Male|  Celeste Lollis|   MVC|81492|   64|Nicole Harwood_Cl...|\n",
            "| 29|  Male|  Cordie Harnois|   OOP|92882|   51|Judie Chipps_Clem...|\n",
            "+---+------+----------------+------+-----+-----+--------------------+\n",
            "only showing top 10 rows\n",
            "\n"
          ]
        }
      ]
    },
    {
      "cell_type": "code",
      "source": [
        "# total no. of students enrolled in each course\n",
        "student_df.groupBy(\"course\").count().show()"
      ],
      "metadata": {
        "colab": {
          "base_uri": "https://localhost:8080/"
        },
        "id": "5CgPa1ZA8caU",
        "outputId": "dc815e20-7d71-4eac-acd7-89e71f3c41e7"
      },
      "execution_count": 26,
      "outputs": [
        {
          "output_type": "stream",
          "name": "stdout",
          "text": [
            "+------+-----+\n",
            "|course|count|\n",
            "+------+-----+\n",
            "|    PF|  166|\n",
            "|    DB|  157|\n",
            "|   MVC|  157|\n",
            "|   DSA|  176|\n",
            "| Cloud|  192|\n",
            "|   OOP|  152|\n",
            "+------+-----+\n",
            "\n"
          ]
        }
      ]
    },
    {
      "cell_type": "code",
      "source": [
        "# total no. of male and female students enrolled in each course\n",
        "student_df.groupBy(\"gender\", \"course\").count().sort(\"gender\",\"course\").show()"
      ],
      "metadata": {
        "colab": {
          "base_uri": "https://localhost:8080/"
        },
        "id": "rH5s9zMz8oJj",
        "outputId": "7da1c51f-e294-4032-cb96-c62c4343e758"
      },
      "execution_count": 30,
      "outputs": [
        {
          "output_type": "stream",
          "name": "stdout",
          "text": [
            "+------+------+-----+\n",
            "|gender|course|count|\n",
            "+------+------+-----+\n",
            "|Female| Cloud|  106|\n",
            "|Female|    DB|   75|\n",
            "|Female|   DSA|   98|\n",
            "|Female|   MVC|   71|\n",
            "|Female|   OOP|   82|\n",
            "|Female|    PF|   69|\n",
            "|  Male| Cloud|   86|\n",
            "|  Male|    DB|   82|\n",
            "|  Male|   DSA|   78|\n",
            "|  Male|   MVC|   86|\n",
            "|  Male|   OOP|   70|\n",
            "|  Male|    PF|   97|\n",
            "+------+------+-----+\n",
            "\n"
          ]
        }
      ]
    },
    {
      "cell_type": "code",
      "source": [
        "#  total marks by each gender in each course\n",
        "student_df.groupBy(\"gender\", \"course\").sum(\"marks\").sort(\"course\",\"gender\").show()"
      ],
      "metadata": {
        "colab": {
          "base_uri": "https://localhost:8080/"
        },
        "id": "nrJxjRwj88Pi",
        "outputId": "e3d052ab-7a16-4895-cf24-189ec2b6abce"
      },
      "execution_count": 32,
      "outputs": [
        {
          "output_type": "stream",
          "name": "stdout",
          "text": [
            "+------+------+----------+\n",
            "|gender|course|sum(marks)|\n",
            "+------+------+----------+\n",
            "|Female| Cloud|      6316|\n",
            "|  Male| Cloud|      5127|\n",
            "|Female|    DB|      4197|\n",
            "|  Male|    DB|      5073|\n",
            "|Female|   DSA|      6124|\n",
            "|  Male|   DSA|      4826|\n",
            "|Female|   MVC|      4344|\n",
            "|  Male|   MVC|      5241|\n",
            "|Female|   OOP|      4682|\n",
            "|  Male|   OOP|      4234|\n",
            "|Female|    PF|      3973|\n",
            "|  Male|    PF|      5960|\n",
            "+------+------+----------+\n",
            "\n"
          ]
        }
      ]
    },
    {
      "cell_type": "code",
      "source": [
        "# min, max, avg marks achieved in each course by each age group\n",
        "student_df.groupBy(\"course\", \"age\").agg(sum(\"marks\"),min(\"marks\"), max(\"marks\")).sort(\"course\", \"age\").show()"
      ],
      "metadata": {
        "colab": {
          "base_uri": "https://localhost:8080/"
        },
        "id": "OZs8n87f9ax0",
        "outputId": "2dd388e5-42ef-48a4-f488-435163e57348"
      },
      "execution_count": 34,
      "outputs": [
        {
          "output_type": "stream",
          "name": "stdout",
          "text": [
            "+------+---+----------+----------+----------+\n",
            "|course|age|sum(marks)|min(marks)|max(marks)|\n",
            "+------+---+----------+----------+----------+\n",
            "| Cloud| 28|      5808|        20|        99|\n",
            "| Cloud| 29|      5635|        21|        98|\n",
            "|    DB| 28|      4819|        21|        98|\n",
            "|    DB| 29|      4451|        20|        98|\n",
            "|   DSA| 28|      5369|        20|        99|\n",
            "|   DSA| 29|      5581|        20|        99|\n",
            "|   MVC| 28|      4352|        23|        99|\n",
            "|   MVC| 29|      5233|        22|        99|\n",
            "|   OOP| 28|      4496|        23|        99|\n",
            "|   OOP| 29|      4420|        20|        99|\n",
            "|    PF| 28|      5037|        20|        98|\n",
            "|    PF| 29|      4896|        20|        99|\n",
            "+------+---+----------+----------+----------+\n",
            "\n"
          ]
        }
      ]
    },
    {
      "cell_type": "code",
      "source": [
        "word_count = spark.read.csv(\"./WordData.txt\")\n",
        "word_count.printSchema()\n",
        "word_count.show(10)\n",
        "word_count.count()\n",
        "\n",
        "word_count.describe()"
      ],
      "metadata": {
        "colab": {
          "base_uri": "https://localhost:8080/"
        },
        "id": "KiTMeFgW92dt",
        "outputId": "1bc12e4b-c031-46ac-8c4d-8f9204c18496"
      },
      "execution_count": 37,
      "outputs": [
        {
          "output_type": "stream",
          "name": "stdout",
          "text": [
            "root\n",
            " |-- _c0: string (nullable = true)\n",
            "\n",
            "+------+\n",
            "|   _c0|\n",
            "+------+\n",
            "| Apple|\n",
            "|   Mic|\n",
            "|   Mic|\n",
            "| Apple|\n",
            "|Laptop|\n",
            "| Apple|\n",
            "|   Mic|\n",
            "|   Mic|\n",
            "| Apple|\n",
            "|Laptop|\n",
            "+------+\n",
            "only showing top 10 rows\n",
            "\n"
          ]
        },
        {
          "output_type": "execute_result",
          "data": {
            "text/plain": [
              "DataFrame[summary: string, _c0: string]"
            ]
          },
          "metadata": {},
          "execution_count": 37
        }
      ]
    },
    {
      "cell_type": "code",
      "source": [
        "word_count.groupBy(\"_c0\").count().show()"
      ],
      "metadata": {
        "colab": {
          "base_uri": "https://localhost:8080/"
        },
        "id": "UJ0p8dfc-cgp",
        "outputId": "cc6001de-ae85-456f-f9e8-278a78769b9a"
      },
      "execution_count": 39,
      "outputs": [
        {
          "output_type": "stream",
          "name": "stdout",
          "text": [
            "+------+-----+\n",
            "|   _c0|count|\n",
            "+------+-----+\n",
            "|   Mic|   10|\n",
            "| Chair|   15|\n",
            "|  Book|    5|\n",
            "|Laptop|    5|\n",
            "|   Bag|    5|\n",
            "|Mobile|    5|\n",
            "| Apple|   10|\n",
            "+------+-----+\n",
            "\n"
          ]
        }
      ]
    },
    {
      "cell_type": "code",
      "source": [
        ""
      ],
      "metadata": {
        "id": "wz6oY4GU-y-D"
      },
      "execution_count": null,
      "outputs": []
    }
  ]
}